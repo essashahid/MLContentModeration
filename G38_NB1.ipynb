{
 "cells": [
  {
   "cell_type": "markdown",
   "id": "a9bf2227",
   "metadata": {},
   "source": [
    "# Introduction: Machine Learning Project Part 1: Naive Bayes Classification for Content Moderation\n",
    "\n",
    "![Naive Bayes Classification](naive.png)\n",
    "\n",
    "In this segment of our comprehensive machine learning project, we are delving into the crucial task of content moderation in digital communication platforms. Our objective is to develop a model capable of identifying and flagging potentially harmful content, a necessity in today's era of expansive digital interactions. This project represents a supervised classification challenge in machine learning.\n",
    "\n",
    "In the initial phase of our project, we have embarked on several critical steps in the machine learning pipeline, tailored to address the nuances of content moderation:\n",
    "\n",
    "1. Data Cleaning and Preprocessing: Preparing the Jigsaw Toxic Comment Classification Dataset for analysis, including text normalization and removal of non-essential elements.\n",
    "\n",
    "2. Exploratory Data Analysis: Understanding the characteristics of the dataset, including the distribution of different classes of toxicity.\n",
    "\n",
    "3. Feature Extraction: Implementing techniques like TF-IDF to convert textual data into a format suitable for machine learning algorithms.\n",
    "\n",
    "4. Model Building: Focusing on the Naive Bayes classifier to establish a baseline for our content moderation model.\n",
    "\n",
    "5. Model Training and Evaluation: Assessing the performance of our model using appropriate metrics, such as accuracy and F1-score, to gauge its effectiveness in classifying toxic comments.\n",
    "\n",
    "6. Interpreting Results: Analyzing the outcomes of our model to understand its decision-making process.\n",
    "\n",
    "In this notebook, we will concentrate on the implementation and evaluation of the Naive Bayes classifier. This model, known for its simplicity and effectiveness in text classification tasks, serves as our starting point in the quest to tackle online toxicity. We aim to explore its strengths and limitations in handling the complexities of content moderation.\n",
    "\n",
    "The subsequent parts of the project will expand upon more sophisticated models and techniques, enhancing our ability to moderate digital content effectively. As we progress, we will document our findings and methodologies, culminating in a comprehensive and insightful report."
   ]
  },
  {
   "cell_type": "markdown",
   "id": "3918ce80",
   "metadata": {},
   "source": [
    "# Imports\n",
    "We will use a familiar stack of data science and machine learning libraries."
   ]
  },
  {
   "cell_type": "code",
   "execution_count": 1,
   "id": "903608ac",
   "metadata": {},
   "outputs": [],
   "source": [
    "# Pandas for data manipulation\n",
    "import pandas as pd\n",
    "\n",
    "# Regular expressions for text processing\n",
    "import re\n",
    "\n",
    "# Sklearn model_selection for splitting data into training and test sets\n",
    "from sklearn.model_selection import train_test_split\n",
    "\n",
    "# TfidfVectorizer for converting text data into numerical form\n",
    "from sklearn.feature_extraction.text import TfidfVectorizer\n",
    "\n",
    "# NLTK for natural language processing tasks\n",
    "import nltk\n",
    "\n",
    "# nltk.download('stopwords')\n",
    "# nltk.download('punkt')\n",
    "\n",
    "# Stopwords and tokenization functions from NLTK\n",
    "from nltk.corpus import stopwords\n",
    "from nltk.tokenize import word_tokenize\n",
    "\n",
    "# MultinomialNB for Naive Bayes classification\n",
    "from sklearn.naive_bayes import MultinomialNB\n",
    "\n",
    "# LinearSVC for Support Vector Machine classification\n",
    "from sklearn.svm import LinearSVC\n",
    "\n",
    "# LogisticRegression for logistic regression modeling\n",
    "from sklearn.linear_model import LogisticRegression\n",
    "\n",
    "# Sklearn metrics for model evaluation\n",
    "from sklearn.metrics import accuracy_score, f1_score, precision_score, recall_score, classification_report, multilabel_confusion_matrix\n",
    "\n",
    "# Matplotlib for plotting and data visualization\n",
    "import matplotlib.pyplot as plt\n",
    "\n",
    "# Numpy for numerical and array operations\n",
    "import numpy as np\n"
   ]
  },
  {
   "cell_type": "markdown",
   "id": "32f5277a",
   "metadata": {},
   "source": [
    "# Data Preprocessing\n",
    "\n",
    "Data preprocessing is a critical step in our machine learning pipeline. For text data, especially in content moderation, it's essential to normalize the text to ensure consistency. This process includes:\n",
    "\n",
    "- Converting text to lowercase to maintain uniformity.\n",
    "- Removing URLs as they often don't contribute to text classification.\n",
    "- Eliminating non-alphanumeric characters which might introduce noise in the data.\n",
    "- Stripping extra white spaces for clean, concise text data.\n",
    "\n",
    "These steps help in creating a standardized dataset, ready for feature extraction and model training.\n"
   ]
  },
  {
   "cell_type": "code",
   "execution_count": 2,
   "id": "c558a923",
   "metadata": {},
   "outputs": [],
   "source": [
    "# Function to remove stopwords\n",
    "def remove_stopwords(text):\n",
    "    stop_words = set(stopwords.words('english'))\n",
    "    words = word_tokenize(text)\n",
    "    cleaned_text = ' '.join([word for word in words if word not in stop_words])\n",
    "    return cleaned_text.strip()  # Strip spaces after processing\n",
    "\n",
    "def preprocess_text(text: str):\n",
    "    text = text.lower()\n",
    "    text = re.sub(r'http\\S+|www\\S+|https\\S+', '', text).strip()  # Remove URLs\n",
    "    text = re.sub(r'[^a-zA-Z0-9\\s]', '', text).strip()  # Remove non-alphanumeric characters\n",
    "    text = re.sub(r'\\s+', ' ', text).strip()  # Remove extra white spaces\n",
    "    text = remove_stopwords(text) # Remove stop_words from the NLTK library\n",
    "    \n",
    "    text = text.strip() # remove extra spaces\n",
    "    return text\n",
    "\n",
    "def preprocess_data(series: pd.Series):\n",
    "    series = series.apply(preprocess_text)\n",
    "    return series\n"
   ]
  },
  {
   "cell_type": "markdown",
   "id": "b7f2313b",
   "metadata": {},
   "source": [
    "# Loading and Preprocessing data"
   ]
  },
  {
   "cell_type": "code",
   "execution_count": 4,
   "id": "ca46ba10",
   "metadata": {},
   "outputs": [
    {
     "data": {
      "text/html": [
       "<div>\n",
       "<style scoped>\n",
       "    .dataframe tbody tr th:only-of-type {\n",
       "        vertical-align: middle;\n",
       "    }\n",
       "\n",
       "    .dataframe tbody tr th {\n",
       "        vertical-align: top;\n",
       "    }\n",
       "\n",
       "    .dataframe thead th {\n",
       "        text-align: right;\n",
       "    }\n",
       "</style>\n",
       "<table border=\"1\" class=\"dataframe\">\n",
       "  <thead>\n",
       "    <tr style=\"text-align: right;\">\n",
       "      <th></th>\n",
       "      <th>id</th>\n",
       "      <th>comment_text</th>\n",
       "      <th>toxic</th>\n",
       "      <th>severe_toxic</th>\n",
       "      <th>obscene</th>\n",
       "      <th>threat</th>\n",
       "      <th>insult</th>\n",
       "      <th>identity_hate</th>\n",
       "    </tr>\n",
       "  </thead>\n",
       "  <tbody>\n",
       "    <tr>\n",
       "      <th>0</th>\n",
       "      <td>0000997932d777bf</td>\n",
       "      <td>explanation edits made username hardcore metal...</td>\n",
       "      <td>0</td>\n",
       "      <td>0</td>\n",
       "      <td>0</td>\n",
       "      <td>0</td>\n",
       "      <td>0</td>\n",
       "      <td>0</td>\n",
       "    </tr>\n",
       "    <tr>\n",
       "      <th>1</th>\n",
       "      <td>000103f0d9cfb60f</td>\n",
       "      <td>daww matches background colour im seemingly st...</td>\n",
       "      <td>0</td>\n",
       "      <td>0</td>\n",
       "      <td>0</td>\n",
       "      <td>0</td>\n",
       "      <td>0</td>\n",
       "      <td>0</td>\n",
       "    </tr>\n",
       "    <tr>\n",
       "      <th>2</th>\n",
       "      <td>000113f07ec002fd</td>\n",
       "      <td>hey man im really trying edit war guy constant...</td>\n",
       "      <td>0</td>\n",
       "      <td>0</td>\n",
       "      <td>0</td>\n",
       "      <td>0</td>\n",
       "      <td>0</td>\n",
       "      <td>0</td>\n",
       "    </tr>\n",
       "    <tr>\n",
       "      <th>3</th>\n",
       "      <td>0001b41b1c6bb37e</td>\n",
       "      <td>cant make real suggestions improvement wondere...</td>\n",
       "      <td>0</td>\n",
       "      <td>0</td>\n",
       "      <td>0</td>\n",
       "      <td>0</td>\n",
       "      <td>0</td>\n",
       "      <td>0</td>\n",
       "    </tr>\n",
       "    <tr>\n",
       "      <th>4</th>\n",
       "      <td>0001d958c54c6e35</td>\n",
       "      <td>sir hero chance remember page thats</td>\n",
       "      <td>0</td>\n",
       "      <td>0</td>\n",
       "      <td>0</td>\n",
       "      <td>0</td>\n",
       "      <td>0</td>\n",
       "      <td>0</td>\n",
       "    </tr>\n",
       "    <tr>\n",
       "      <th>...</th>\n",
       "      <td>...</td>\n",
       "      <td>...</td>\n",
       "      <td>...</td>\n",
       "      <td>...</td>\n",
       "      <td>...</td>\n",
       "      <td>...</td>\n",
       "      <td>...</td>\n",
       "      <td>...</td>\n",
       "    </tr>\n",
       "    <tr>\n",
       "      <th>159566</th>\n",
       "      <td>ffe987279560d7ff</td>\n",
       "      <td>second time asking view completely contradicts...</td>\n",
       "      <td>0</td>\n",
       "      <td>0</td>\n",
       "      <td>0</td>\n",
       "      <td>0</td>\n",
       "      <td>0</td>\n",
       "      <td>0</td>\n",
       "    </tr>\n",
       "    <tr>\n",
       "      <th>159567</th>\n",
       "      <td>ffea4adeee384e90</td>\n",
       "      <td>ashamed horrible thing put talk page 128611993</td>\n",
       "      <td>0</td>\n",
       "      <td>0</td>\n",
       "      <td>0</td>\n",
       "      <td>0</td>\n",
       "      <td>0</td>\n",
       "      <td>0</td>\n",
       "    </tr>\n",
       "    <tr>\n",
       "      <th>159568</th>\n",
       "      <td>ffee36eab5c267c9</td>\n",
       "      <td>spitzer umm theres actual article prostitution...</td>\n",
       "      <td>0</td>\n",
       "      <td>0</td>\n",
       "      <td>0</td>\n",
       "      <td>0</td>\n",
       "      <td>0</td>\n",
       "      <td>0</td>\n",
       "    </tr>\n",
       "    <tr>\n",
       "      <th>159569</th>\n",
       "      <td>fff125370e4aaaf3</td>\n",
       "      <td>looks like actually put speedy first version d...</td>\n",
       "      <td>0</td>\n",
       "      <td>0</td>\n",
       "      <td>0</td>\n",
       "      <td>0</td>\n",
       "      <td>0</td>\n",
       "      <td>0</td>\n",
       "    </tr>\n",
       "    <tr>\n",
       "      <th>159570</th>\n",
       "      <td>fff46fc426af1f9a</td>\n",
       "      <td>really dont think understand came idea bad rig...</td>\n",
       "      <td>0</td>\n",
       "      <td>0</td>\n",
       "      <td>0</td>\n",
       "      <td>0</td>\n",
       "      <td>0</td>\n",
       "      <td>0</td>\n",
       "    </tr>\n",
       "  </tbody>\n",
       "</table>\n",
       "<p>159571 rows × 8 columns</p>\n",
       "</div>"
      ],
      "text/plain": [
       "                      id                                       comment_text   \n",
       "0       0000997932d777bf  explanation edits made username hardcore metal...  \\\n",
       "1       000103f0d9cfb60f  daww matches background colour im seemingly st...   \n",
       "2       000113f07ec002fd  hey man im really trying edit war guy constant...   \n",
       "3       0001b41b1c6bb37e  cant make real suggestions improvement wondere...   \n",
       "4       0001d958c54c6e35                sir hero chance remember page thats   \n",
       "...                  ...                                                ...   \n",
       "159566  ffe987279560d7ff  second time asking view completely contradicts...   \n",
       "159567  ffea4adeee384e90     ashamed horrible thing put talk page 128611993   \n",
       "159568  ffee36eab5c267c9  spitzer umm theres actual article prostitution...   \n",
       "159569  fff125370e4aaaf3  looks like actually put speedy first version d...   \n",
       "159570  fff46fc426af1f9a  really dont think understand came idea bad rig...   \n",
       "\n",
       "        toxic  severe_toxic  obscene  threat  insult  identity_hate  \n",
       "0           0             0        0       0       0              0  \n",
       "1           0             0        0       0       0              0  \n",
       "2           0             0        0       0       0              0  \n",
       "3           0             0        0       0       0              0  \n",
       "4           0             0        0       0       0              0  \n",
       "...       ...           ...      ...     ...     ...            ...  \n",
       "159566      0             0        0       0       0              0  \n",
       "159567      0             0        0       0       0              0  \n",
       "159568      0             0        0       0       0              0  \n",
       "159569      0             0        0       0       0              0  \n",
       "159570      0             0        0       0       0              0  \n",
       "\n",
       "[159571 rows x 8 columns]"
      ]
     },
     "execution_count": 4,
     "metadata": {},
     "output_type": "execute_result"
    }
   ],
   "source": [
    "train_file_path = 'train.csv'\n",
    "train_data = pd.read_csv(train_file_path)\n",
    "\n",
    "train_data['comment_text'] = preprocess_data(train_data['comment_text'])\n",
    "train_data"
   ]
  },
  {
   "cell_type": "code",
   "execution_count": 5,
   "id": "a0476b9e",
   "metadata": {},
   "outputs": [
    {
     "data": {
      "text/html": [
       "<div>\n",
       "<style scoped>\n",
       "    .dataframe tbody tr th:only-of-type {\n",
       "        vertical-align: middle;\n",
       "    }\n",
       "\n",
       "    .dataframe tbody tr th {\n",
       "        vertical-align: top;\n",
       "    }\n",
       "\n",
       "    .dataframe thead th {\n",
       "        text-align: right;\n",
       "    }\n",
       "</style>\n",
       "<table border=\"1\" class=\"dataframe\">\n",
       "  <thead>\n",
       "    <tr style=\"text-align: right;\">\n",
       "      <th></th>\n",
       "      <th>id</th>\n",
       "      <th>comment_text</th>\n",
       "    </tr>\n",
       "  </thead>\n",
       "  <tbody>\n",
       "    <tr>\n",
       "      <th>0</th>\n",
       "      <td>00001cee341fdb12</td>\n",
       "      <td>yo bitch ja rule succesful youll ever whats ha...</td>\n",
       "    </tr>\n",
       "    <tr>\n",
       "      <th>1</th>\n",
       "      <td>0000247867823ef7</td>\n",
       "      <td>rfc title fine imo</td>\n",
       "    </tr>\n",
       "    <tr>\n",
       "      <th>2</th>\n",
       "      <td>00013b17ad220c46</td>\n",
       "      <td>sources zawe ashton lapland</td>\n",
       "    </tr>\n",
       "    <tr>\n",
       "      <th>3</th>\n",
       "      <td>00017563c3f7919a</td>\n",
       "      <td>look back source information updated correct f...</td>\n",
       "    </tr>\n",
       "    <tr>\n",
       "      <th>4</th>\n",
       "      <td>00017695ad8997eb</td>\n",
       "      <td>dont anonymously edit articles</td>\n",
       "    </tr>\n",
       "    <tr>\n",
       "      <th>...</th>\n",
       "      <td>...</td>\n",
       "      <td>...</td>\n",
       "    </tr>\n",
       "    <tr>\n",
       "      <th>153159</th>\n",
       "      <td>fffcd0960ee309b5</td>\n",
       "      <td>totally agree stuff nothing toolongcrap</td>\n",
       "    </tr>\n",
       "    <tr>\n",
       "      <th>153160</th>\n",
       "      <td>fffd7a9a6eb32c16</td>\n",
       "      <td>throw field home plate get faster throwing cut...</td>\n",
       "    </tr>\n",
       "    <tr>\n",
       "      <th>153161</th>\n",
       "      <td>fffda9e8d6fafa9e</td>\n",
       "      <td>okinotorishima categories see changes agree co...</td>\n",
       "    </tr>\n",
       "    <tr>\n",
       "      <th>153162</th>\n",
       "      <td>fffe8f1340a79fc2</td>\n",
       "      <td>one founding nations eu germany law return qui...</td>\n",
       "    </tr>\n",
       "    <tr>\n",
       "      <th>153163</th>\n",
       "      <td>ffffce3fb183ee80</td>\n",
       "      <td>stop already bullshit welcome im fool think ki...</td>\n",
       "    </tr>\n",
       "  </tbody>\n",
       "</table>\n",
       "<p>153164 rows × 2 columns</p>\n",
       "</div>"
      ],
      "text/plain": [
       "                      id                                       comment_text\n",
       "0       00001cee341fdb12  yo bitch ja rule succesful youll ever whats ha...\n",
       "1       0000247867823ef7                                 rfc title fine imo\n",
       "2       00013b17ad220c46                        sources zawe ashton lapland\n",
       "3       00017563c3f7919a  look back source information updated correct f...\n",
       "4       00017695ad8997eb                     dont anonymously edit articles\n",
       "...                  ...                                                ...\n",
       "153159  fffcd0960ee309b5            totally agree stuff nothing toolongcrap\n",
       "153160  fffd7a9a6eb32c16  throw field home plate get faster throwing cut...\n",
       "153161  fffda9e8d6fafa9e  okinotorishima categories see changes agree co...\n",
       "153162  fffe8f1340a79fc2  one founding nations eu germany law return qui...\n",
       "153163  ffffce3fb183ee80  stop already bullshit welcome im fool think ki...\n",
       "\n",
       "[153164 rows x 2 columns]"
      ]
     },
     "execution_count": 5,
     "metadata": {},
     "output_type": "execute_result"
    }
   ],
   "source": [
    "test_file_path = 'data/test.csv'  # Replace with the actual path to your test.csv file\n",
    "test_label_path = 'data/test_labels.csv'\n",
    "test_data = pd.read_csv(test_file_path)\n",
    "test_labels = pd.read_csv(test_label_path)\n",
    "\n",
    "test_data['comment_text'] = preprocess_data(test_data['comment_text'])\n",
    "test_data"
   ]
  },
  {
   "cell_type": "markdown",
   "id": "b977320d",
   "metadata": {},
   "source": [
    "# Feature Extraction: TF-IDF Vectorization\n",
    "\n",
    "Feature extraction is crucial for converting our textual data into a numerical format that our machine learning models can understand. We use TF-IDF (Term Frequency-Inverse Document Frequency) vectorization, which reflects the importance of a word in a corpus. TF-IDF increases proportionally to the number of times a word appears in a document but is offset by the frequency of the word in the corpus. This helps in handling the most common problem in text data - the variance in word frequency.\n"
   ]
  },
  {
   "cell_type": "code",
   "execution_count": 10,
   "id": "48414509",
   "metadata": {},
   "outputs": [
    {
     "name": "stdout",
     "output_type": "stream",
     "text": [
      "Shape: (63978, 2)\n",
      "x_test:\n",
      "                  id                                       comment_text\n",
      "5   0001ea8717f6de06  thank understanding think highly would revert ...\n",
      "7   000247e83dcc1211                             dear god site horrible\n",
      "11  0002f87b16116a7f  somebody invariably try add religion really me...\n",
      "13  0003e1cccfd5a40a  says right type type institution needed case t...\n",
      "14  00059ace3e3e9a53  adding new product list make sure relevant add...\n",
      "\n",
      "y_test:\n",
      "[[0 0 0 0 0 0]\n",
      " [0 0 0 0 0 0]\n",
      " [0 0 0 0 0 0]\n",
      " ...\n",
      " [0 0 0 0 0 0]\n",
      " [1 0 1 0 1 0]\n",
      " [0 0 0 0 0 0]]\n"
     ]
    }
   ],
   "source": [
    "# Merge/join the dataframes based on the 'id' column\n",
    "merged_data = pd.merge(test_data, test_labels, on='id')\n",
    "\n",
    "# there are alot of comments that are not givien any labels so just filtering those out\n",
    "filtered_data = merged_data[merged_data.iloc[:, 2:].sum(axis=1)>=0] \n",
    "\n",
    "# Separate the merged data into x_test and y_test\n",
    "x_test = filtered_data[['id', 'comment_text']]\n",
    "y_test = filtered_data[['toxic', 'severe_toxic', 'obscene', 'threat', 'insult', 'identity_hate']].to_numpy()\n",
    "\n",
    "X_test_tfidf = tfidf_vectorizer.transform(x_test['comment_text'])\n",
    "\n",
    "\n",
    "# Print x_test and y_test to verify the structure\n",
    "print(f\"Shape: {x_test.shape}\")\n",
    "print(\"x_test:\")\n",
    "print(x_test.head())\n",
    "print(\"\\ny_test:\")\n",
    "print(y_test)\n"
   ]
  },
  {
   "cell_type": "markdown",
   "id": "50828ac8",
   "metadata": {},
   "source": [
    "# Splitting Data for Analysis\n",
    "\n",
    "Before building our models, it's important to understand the distribution of data across different categories. This helps us identify any imbalances which can significantly impact model performance. We'll visualize the number of comments per category and analyze the label distribution. Understanding these aspects is crucial for making informed decisions in the subsequent stages of model training and evaluation.\n"
   ]
  },
  {
   "cell_type": "code",
   "execution_count": 6,
   "id": "c92c7c41",
   "metadata": {},
   "outputs": [
    {
     "data": {
      "text/plain": [
       "Text(0.5, 0, 'category')"
      ]
     },
     "execution_count": 6,
     "metadata": {},
     "output_type": "execute_result"
    },
    {
     "data": {
      "image/png": "[encoded data removed]",
      "text/plain": [
       "<Figure size 800x500 with 1 Axes>"
      ]
     },
     "metadata": {},
     "output_type": "display_data"
    }
   ],
   "source": [
    "# reference from https://towardsdatascience.com/multi-label-text-classification-with-scikit-learn-30714b7819c5\n",
    "# to visualize the number of comments per category\n",
    "df_stats = train_data[['toxic', 'severe_toxic', 'obscene', 'threat', 'insult', 'identity_hate']].sum()\n",
    "df_stats.plot(x='category', y='number_of_comments', kind='bar', legend=False, grid=True, figsize=(8, 5))\n",
    "plt.title(\"Number of comments per category\")\n",
    "plt.ylabel('# of Occurrences', fontsize=12)\n",
    "plt.xlabel('category', fontsize=12)\n",
    "# this show that it is very imablannced dataset"
   ]
  },
  {
   "cell_type": "code",
   "execution_count": 7,
   "id": "26b6745e",
   "metadata": {},
   "outputs": [
    {
     "data": {
      "text/plain": [
       "0    143346\n",
       "1      6360\n",
       "3      4209\n",
       "2      3480\n",
       "4      1760\n",
       "5       385\n",
       "6        31\n",
       "dtype: int64"
      ]
     },
     "execution_count": 7,
     "metadata": {},
     "output_type": "execute_result"
    }
   ],
   "source": [
    "# After analyzing the above setup, it hit us that they don't add up to the total number of comments\n",
    "# It means some comments are untagged/unlabeled\n",
    "labels_per_comment = train_data[['toxic', 'severe_toxic', 'obscene', 'threat', 'insult', 'identity_hate']].sum(axis=1)\n",
    "labels_per_comment.value_counts()\n",
    "# This shows that most of the comments have 0 labels\n",
    "# This can be explained by the fact that most of the comments are not labeled means they are not toxic in anyway\n",
    "# can be considered as a negative class."
   ]
  },
  {
   "cell_type": "code",
   "execution_count": 8,
   "id": "58fc3a40",
   "metadata": {},
   "outputs": [
    {
     "data": {
      "text/plain": [
       "((135635, 8), (23936, 8))"
      ]
     },
     "execution_count": 8,
     "metadata": {},
     "output_type": "execute_result"
    }
   ],
   "source": [
    "# Splitting the training data into training and validation sets (85% - 15%)\n",
    "train_data, val_data = train_test_split(train_data, test_size=0.15, random_state=42)\n",
    "train_data.shape, val_data.shape"
   ]
  },
  {
   "cell_type": "markdown",
   "id": "a9c7de37",
   "metadata": {},
   "source": [
    "# Initializing TF-IDF Vectorizer\n",
    "\n",
    "After splitting the data, we initialize the TF-IDF Vectorizer. This vectorizer will transform the text comments into a format that's suitable for model input. TF-IDF helps in reflecting the importance of words in relation to the document and the entire corpus, which is vital for effective text classification.\n"
   ]
  },
  {
   "cell_type": "code",
   "execution_count": 9,
   "id": "0831ff42",
   "metadata": {},
   "outputs": [],
   "source": [
    "# Initialize the TF-IDF Vectorizer for the training data\n",
    "tfidf_vectorizer = TfidfVectorizer()\n",
    "X_train_tfidf = tfidf_vectorizer.fit_transform(train_data['comment_text'])\n",
    "X_val_tfidf = tfidf_vectorizer.transform(val_data['comment_text'])\n",
    "y_train = train_data[['toxic', 'severe_toxic', 'obscene', 'threat', 'insult', 'identity_hate']].to_numpy()\n",
    "y_val = val_data[['toxic', 'severe_toxic', 'obscene', 'threat', 'insult', 'identity_hate']].to_numpy()"
   ]
  },
  {
   "cell_type": "code",
   "execution_count": 13,
   "id": "c83d5e6f",
   "metadata": {},
   "outputs": [],
   "source": [
    "from sklearn.multiclass import OneVsRestClassifier\n",
    "from sklearn.svm import LinearSVC, SVC\n",
    "from sklearn.linear_model import LogisticRegression\n",
    "from sklearn.metrics import f1_score"
   ]
  },
  {
   "cell_type": "code",
   "execution_count": 15,
   "id": "0827ccc8",
   "metadata": {},
   "outputs": [],
   "source": [
    "def eval(clf,X, Y, categories):\n",
    "    eval_metrics = {\"acc\": {}, \"f1\": {}}\n",
    "    predictions = clf.predict(X)\n",
    "    for i, category in enumerate(categories):\n",
    "        eval_metrics[\"acc\"][category] = accuracy_score(Y[:, i], predictions[:, i])\n",
    "        eval_metrics[\"f1\"][category] = f1_score(Y[:, i], predictions[:, i])\n",
    "\n",
    "    return pd.DataFrame(eval_metrics)\n",
    "\n",
    "def fit_eval(clf, categories, X_train, y_train, X_val, y_val):\n",
    "    clf.fit(X_train, y_train)\n",
    "    return eval(clf, X_val, y_val, categories)"
   ]
  },
  {
   "cell_type": "markdown",
   "id": "3ed6b2cb",
   "metadata": {},
   "source": [
    "# Model Fitting and Evaluation\n",
    "\n",
    "Now, we will fit our models to the training data and evaluate them using the validation set. We are employing a OneVsRestClassifier with different underlying algorithms: Naive Bayes, Logistic Regression, and LinearSVC. This approach is suitable for multi-label classification tasks like ours. After training, we will evaluate each model's performance using accuracy and F1-score, focusing on the latter due to the imbalanced nature of our dataset.\n",
    "\n",
    "Naive Bayes:\n",
    "- Here F1-scores are low because of the imbalanced dataset\n",
    "- This show how the imbalance in the data affects our naive bayes model's performance"
   ]
  },
  {
   "cell_type": "code",
   "execution_count": 16,
   "id": "9cb0feec",
   "metadata": {},
   "outputs": [
    {
     "data": {
      "text/html": [
       "<div>\n",
       "<style scoped>\n",
       "    .dataframe tbody tr th:only-of-type {\n",
       "        vertical-align: middle;\n",
       "    }\n",
       "\n",
       "    .dataframe tbody tr th {\n",
       "        vertical-align: top;\n",
       "    }\n",
       "\n",
       "    .dataframe thead th {\n",
       "        text-align: right;\n",
       "    }\n",
       "</style>\n",
       "<table border=\"1\" class=\"dataframe\">\n",
       "  <thead>\n",
       "    <tr style=\"text-align: right;\">\n",
       "      <th></th>\n",
       "      <th>acc</th>\n",
       "      <th>f1</th>\n",
       "    </tr>\n",
       "  </thead>\n",
       "  <tbody>\n",
       "    <tr>\n",
       "      <th>toxic</th>\n",
       "      <td>0.920914</td>\n",
       "      <td>0.280502</td>\n",
       "    </tr>\n",
       "    <tr>\n",
       "      <th>severe_toxic</th>\n",
       "      <td>0.990600</td>\n",
       "      <td>0.000000</td>\n",
       "    </tr>\n",
       "    <tr>\n",
       "      <th>obscene</th>\n",
       "      <td>0.952081</td>\n",
       "      <td>0.188252</td>\n",
       "    </tr>\n",
       "    <tr>\n",
       "      <th>threat</th>\n",
       "      <td>0.997786</td>\n",
       "      <td>0.000000</td>\n",
       "    </tr>\n",
       "    <tr>\n",
       "      <th>insult</th>\n",
       "      <td>0.952081</td>\n",
       "      <td>0.072757</td>\n",
       "    </tr>\n",
       "    <tr>\n",
       "      <th>identity_hate</th>\n",
       "      <td>0.990516</td>\n",
       "      <td>0.000000</td>\n",
       "    </tr>\n",
       "  </tbody>\n",
       "</table>\n",
       "</div>"
      ],
      "text/plain": [
       "                    acc        f1\n",
       "toxic          0.920914  0.280502\n",
       "severe_toxic   0.990600  0.000000\n",
       "obscene        0.952081  0.188252\n",
       "threat         0.997786  0.000000\n",
       "insult         0.952081  0.072757\n",
       "identity_hate  0.990516  0.000000"
      ]
     },
     "execution_count": 16,
     "metadata": {},
     "output_type": "execute_result"
    }
   ],
   "source": [
    "# Define a pipeline combining a text feature extractor with multi lable classifier\n",
    "clf_naive =  OneVsRestClassifier(MultinomialNB(fit_prior=True, class_prior=None))\n",
    "categories = ['toxic', 'severe_toxic', 'obscene', 'threat', 'insult', 'identity_hate']\n",
    "\n",
    "eval_metrics = fit_eval(clf_naive, categories, X_train_tfidf, y_train, X_val_tfidf, y_val)\n",
    "eval_metrics"
   ]
  },
  {
   "cell_type": "markdown",
   "id": "69556f85",
   "metadata": {},
   "source": [
    "Logistic Regression:\n",
    "- Here F1-scores are also low because of the imbalanced dataset\n",
    "- This show how the imbalance in the data affects our logistic regression model's performance\n",
    "- But it is still much better than Naive Bayes Classifier"
   ]
  },
  {
   "cell_type": "code",
   "execution_count": 17,
   "id": "7bd79a34",
   "metadata": {},
   "outputs": [
    {
     "name": "stderr",
     "output_type": "stream",
     "text": [
      "/home/junaid/anaconda3/envs/pytorch/lib/python3.11/site-packages/sklearn/linear_model/_logistic.py:460: ConvergenceWarning: lbfgs failed to converge (status=1):\n",
      "STOP: TOTAL NO. of ITERATIONS REACHED LIMIT.\n",
      "\n",
      "Increase the number of iterations (max_iter) or scale the data as shown in:\n",
      "    https://scikit-learn.org/stable/modules/preprocessing.html\n",
      "Please also refer to the documentation for alternative solver options:\n",
      "    https://scikit-learn.org/stable/modules/linear_model.html#logistic-regression\n",
      "  n_iter_i = _check_optimize_result(\n"
     ]
    },
    {
     "data": {
      "text/html": [
       "<div>\n",
       "<style scoped>\n",
       "    .dataframe tbody tr th:only-of-type {\n",
       "        vertical-align: middle;\n",
       "    }\n",
       "\n",
       "    .dataframe tbody tr th {\n",
       "        vertical-align: top;\n",
       "    }\n",
       "\n",
       "    .dataframe thead th {\n",
       "        text-align: right;\n",
       "    }\n",
       "</style>\n",
       "<table border=\"1\" class=\"dataframe\">\n",
       "  <thead>\n",
       "    <tr style=\"text-align: right;\">\n",
       "      <th></th>\n",
       "      <th>acc</th>\n",
       "      <th>f1</th>\n",
       "    </tr>\n",
       "  </thead>\n",
       "  <tbody>\n",
       "    <tr>\n",
       "      <th>toxic</th>\n",
       "      <td>0.957595</td>\n",
       "      <td>0.729261</td>\n",
       "    </tr>\n",
       "    <tr>\n",
       "      <th>severe_toxic</th>\n",
       "      <td>0.991018</td>\n",
       "      <td>0.354354</td>\n",
       "    </tr>\n",
       "    <tr>\n",
       "      <th>obscene</th>\n",
       "      <td>0.976270</td>\n",
       "      <td>0.733583</td>\n",
       "    </tr>\n",
       "    <tr>\n",
       "      <th>threat</th>\n",
       "      <td>0.997911</td>\n",
       "      <td>0.242424</td>\n",
       "    </tr>\n",
       "    <tr>\n",
       "      <th>insult</th>\n",
       "      <td>0.970296</td>\n",
       "      <td>0.630265</td>\n",
       "    </tr>\n",
       "    <tr>\n",
       "      <th>identity_hate</th>\n",
       "      <td>0.991352</td>\n",
       "      <td>0.241758</td>\n",
       "    </tr>\n",
       "  </tbody>\n",
       "</table>\n",
       "</div>"
      ],
      "text/plain": [
       "                    acc        f1\n",
       "toxic          0.957595  0.729261\n",
       "severe_toxic   0.991018  0.354354\n",
       "obscene        0.976270  0.733583\n",
       "threat         0.997911  0.242424\n",
       "insult         0.970296  0.630265\n",
       "identity_hate  0.991352  0.241758"
      ]
     },
     "execution_count": 17,
     "metadata": {},
     "output_type": "execute_result"
    }
   ],
   "source": [
    "# Here we define a pipeline combining a text feature extractor with multi lable classifier\n",
    "clf_log =  OneVsRestClassifier(LogisticRegression())\n",
    "categories = ['toxic', 'severe_toxic', 'obscene', 'threat', 'insult', 'identity_hate']\n",
    "\n",
    "eval_metrics = fit_eval(clf_log, categories, X_train_tfidf, y_train, X_val_tfidf, y_val)\n",
    "eval_metrics"
   ]
  },
  {
   "cell_type": "markdown",
   "id": "71731990",
   "metadata": {},
   "source": [
    "SVC:\n",
    "- Here F1-scores are also low because of the imbalanced dataset\n",
    "- But SVC is still much better than Naive Bayes Classifier and logistic model"
   ]
  },
  {
   "cell_type": "code",
   "execution_count": 18,
   "id": "56136bb4",
   "metadata": {},
   "outputs": [
    {
     "name": "stderr",
     "output_type": "stream",
     "text": [
      "/home/junaid/anaconda3/envs/pytorch/lib/python3.11/site-packages/sklearn/svm/_classes.py:32: FutureWarning: The default value of `dual` will change from `True` to `'auto'` in 1.5. Set the value of `dual` explicitly to suppress the warning.\n",
      "  warnings.warn(\n",
      "/home/junaid/anaconda3/envs/pytorch/lib/python3.11/site-packages/sklearn/svm/_classes.py:32: FutureWarning: The default value of `dual` will change from `True` to `'auto'` in 1.5. Set the value of `dual` explicitly to suppress the warning.\n",
      "  warnings.warn(\n",
      "/home/junaid/anaconda3/envs/pytorch/lib/python3.11/site-packages/sklearn/svm/_classes.py:32: FutureWarning: The default value of `dual` will change from `True` to `'auto'` in 1.5. Set the value of `dual` explicitly to suppress the warning.\n",
      "  warnings.warn(\n",
      "/home/junaid/anaconda3/envs/pytorch/lib/python3.11/site-packages/sklearn/svm/_classes.py:32: FutureWarning: The default value of `dual` will change from `True` to `'auto'` in 1.5. Set the value of `dual` explicitly to suppress the warning.\n",
      "  warnings.warn(\n",
      "/home/junaid/anaconda3/envs/pytorch/lib/python3.11/site-packages/sklearn/svm/_classes.py:32: FutureWarning: The default value of `dual` will change from `True` to `'auto'` in 1.5. Set the value of `dual` explicitly to suppress the warning.\n",
      "  warnings.warn(\n",
      "/home/junaid/anaconda3/envs/pytorch/lib/python3.11/site-packages/sklearn/svm/_classes.py:32: FutureWarning: The default value of `dual` will change from `True` to `'auto'` in 1.5. Set the value of `dual` explicitly to suppress the warning.\n",
      "  warnings.warn(\n"
     ]
    },
    {
     "data": {
      "text/html": [
       "<div>\n",
       "<style scoped>\n",
       "    .dataframe tbody tr th:only-of-type {\n",
       "        vertical-align: middle;\n",
       "    }\n",
       "\n",
       "    .dataframe tbody tr th {\n",
       "        vertical-align: top;\n",
       "    }\n",
       "\n",
       "    .dataframe thead th {\n",
       "        text-align: right;\n",
       "    }\n",
       "</style>\n",
       "<table border=\"1\" class=\"dataframe\">\n",
       "  <thead>\n",
       "    <tr style=\"text-align: right;\">\n",
       "      <th></th>\n",
       "      <th>acc</th>\n",
       "      <th>f1</th>\n",
       "    </tr>\n",
       "  </thead>\n",
       "  <tbody>\n",
       "    <tr>\n",
       "      <th>toxic</th>\n",
       "      <td>0.960812</td>\n",
       "      <td>0.768852</td>\n",
       "    </tr>\n",
       "    <tr>\n",
       "      <th>severe_toxic</th>\n",
       "      <td>0.990642</td>\n",
       "      <td>0.370787</td>\n",
       "    </tr>\n",
       "    <tr>\n",
       "      <th>obscene</th>\n",
       "      <td>0.979403</td>\n",
       "      <td>0.785745</td>\n",
       "    </tr>\n",
       "    <tr>\n",
       "      <th>threat</th>\n",
       "      <td>0.997953</td>\n",
       "      <td>0.363636</td>\n",
       "    </tr>\n",
       "    <tr>\n",
       "      <th>insult</th>\n",
       "      <td>0.972468</td>\n",
       "      <td>0.681796</td>\n",
       "    </tr>\n",
       "    <tr>\n",
       "      <th>identity_hate</th>\n",
       "      <td>0.991895</td>\n",
       "      <td>0.370130</td>\n",
       "    </tr>\n",
       "  </tbody>\n",
       "</table>\n",
       "</div>"
      ],
      "text/plain": [
       "                    acc        f1\n",
       "toxic          0.960812  0.768852\n",
       "severe_toxic   0.990642  0.370787\n",
       "obscene        0.979403  0.785745\n",
       "threat         0.997953  0.363636\n",
       "insult         0.972468  0.681796\n",
       "identity_hate  0.991895  0.370130"
      ]
     },
     "execution_count": 18,
     "metadata": {},
     "output_type": "execute_result"
    }
   ],
   "source": [
    "# Here we define a pipeline combining a text feature extractor with multi lable classifier\n",
    "clf_svc =  OneVsRestClassifier(LinearSVC())\n",
    "categories = ['toxic', 'severe_toxic', 'obscene', 'threat', 'insult', 'identity_hate']\n",
    "\n",
    "eval_metrics = fit_eval(clf_svc, categories, X_train_tfidf, y_train, X_val_tfidf, y_val)\n",
    "eval_metrics"
   ]
  },
  {
   "cell_type": "markdown",
   "id": "2653e544",
   "metadata": {},
   "source": [
    "- From the above methods, Linear SVC performed the best\n",
    "- Let's run it on the test data\n",
    "- In the below cell we use a sample hate sentence for see the output of the model\n",
    "- Used all the bad words we know for the sake of testing only XD"
   ]
  },
  {
   "cell_type": "code",
   "execution_count": 20,
   "id": "9c176829",
   "metadata": {},
   "outputs": [
    {
     "data": {
      "text/plain": [
       "array([[1, 0, 0, 0, 1, 1]])"
      ]
     },
     "execution_count": 20,
     "metadata": {},
     "output_type": "execute_result"
    }
   ],
   "source": [
    "text = \"I hope you all have a wonderful day and achieve great success in your endeavors.\"\n",
    "\n",
    "demo = tfidf_vectorizer.transform([preprocess_text(text)])\n",
    "pred = clf_svc.predict(demo)\n",
    "pred\n"
   ]
  },
  {
   "cell_type": "code",
   "execution_count": 22,
   "id": "72c8ce2d",
   "metadata": {},
   "outputs": [
    {
     "data": {
      "text/html": [
       "<div>\n",
       "<style scoped>\n",
       "    .dataframe tbody tr th:only-of-type {\n",
       "        vertical-align: middle;\n",
       "    }\n",
       "\n",
       "    .dataframe tbody tr th {\n",
       "        vertical-align: top;\n",
       "    }\n",
       "\n",
       "    .dataframe thead th {\n",
       "        text-align: right;\n",
       "    }\n",
       "</style>\n",
       "<table border=\"1\" class=\"dataframe\">\n",
       "  <thead>\n",
       "    <tr style=\"text-align: right;\">\n",
       "      <th></th>\n",
       "      <th>acc</th>\n",
       "      <th>f1</th>\n",
       "    </tr>\n",
       "  </thead>\n",
       "  <tbody>\n",
       "    <tr>\n",
       "      <th>toxic</th>\n",
       "      <td>0.927397</td>\n",
       "      <td>0.671337</td>\n",
       "    </tr>\n",
       "    <tr>\n",
       "      <th>severe_toxic</th>\n",
       "      <td>0.992732</td>\n",
       "      <td>0.351464</td>\n",
       "    </tr>\n",
       "    <tr>\n",
       "      <th>obscene</th>\n",
       "      <td>0.963472</td>\n",
       "      <td>0.681998</td>\n",
       "    </tr>\n",
       "    <tr>\n",
       "      <th>threat</th>\n",
       "      <td>0.996639</td>\n",
       "      <td>0.380403</td>\n",
       "    </tr>\n",
       "    <tr>\n",
       "      <th>insult</th>\n",
       "      <td>0.961831</td>\n",
       "      <td>0.611765</td>\n",
       "    </tr>\n",
       "    <tr>\n",
       "      <th>identity_hate</th>\n",
       "      <td>0.990372</td>\n",
       "      <td>0.406551</td>\n",
       "    </tr>\n",
       "  </tbody>\n",
       "</table>\n",
       "</div>"
      ],
      "text/plain": [
       "                    acc        f1\n",
       "toxic          0.927397  0.671337\n",
       "severe_toxic   0.992732  0.351464\n",
       "obscene        0.963472  0.681998\n",
       "threat         0.996639  0.380403\n",
       "insult         0.961831  0.611765\n",
       "identity_hate  0.990372  0.406551"
      ]
     },
     "execution_count": 22,
     "metadata": {},
     "output_type": "execute_result"
    }
   ],
   "source": [
    "eval(clf_svc, X_test_tfidf, y_test, categories)"
   ]
  },
  {
   "cell_type": "markdown",
   "id": "cc692d58",
   "metadata": {},
   "source": [
    "# Prediction and Evaluation on Test Data\n",
    "\n",
    "After training and evaluating our models on the validation set, we will use them to predict labels on the test set. We use the **SVC Classifier** because it gave us the best result out of all. This step is crucial for understanding how our models perform on unseen data. We will use classification reports and confusion matrices to assess the performance in a detailed manner, providing insights into each category's prediction accuracy."
   ]
  },
  {
   "cell_type": "code",
   "execution_count": 23,
   "id": "2b59e05e",
   "metadata": {},
   "outputs": [
    {
     "name": "stdout",
     "output_type": "stream",
     "text": [
      "               precision    recall  f1-score   support\n",
      "\n",
      "        toxic       0.59      0.78      0.67      6090\n",
      " severe_toxic       0.36      0.34      0.35       367\n",
      "      obscene       0.69      0.68      0.68      3691\n",
      "       threat       0.49      0.31      0.38       211\n",
      "       insult       0.67      0.56      0.61      3427\n",
      "identity_hate       0.65      0.30      0.41       712\n",
      "\n",
      "    micro avg       0.62      0.66      0.64     14498\n",
      "    macro avg       0.57      0.50      0.52     14498\n",
      " weighted avg       0.63      0.66      0.63     14498\n",
      "  samples avg       0.07      0.06      0.06     14498\n",
      "\n",
      "[[[54589  3299]\n",
      "  [ 1346  4744]]\n",
      "\n",
      " [[63387   224]\n",
      "  [  241   126]]\n",
      "\n",
      " [[59135  1152]\n",
      "  [ 1185  2506]]\n",
      "\n",
      " [[63697    70]\n",
      "  [  145    66]]\n",
      "\n",
      " [[59612   939]\n",
      "  [ 1503  1924]]\n",
      "\n",
      " [[63151   115]\n",
      "  [  501   211]]]\n"
     ]
    },
    {
     "name": "stderr",
     "output_type": "stream",
     "text": [
      "/home/junaid/anaconda3/envs/pytorch/lib/python3.11/site-packages/sklearn/metrics/_classification.py:1471: UndefinedMetricWarning: Precision and F-score are ill-defined and being set to 0.0 in samples with no predicted labels. Use `zero_division` parameter to control this behavior.\n",
      "  _warn_prf(average, modifier, msg_start, len(result))\n",
      "/home/junaid/anaconda3/envs/pytorch/lib/python3.11/site-packages/sklearn/metrics/_classification.py:1471: UndefinedMetricWarning: Recall and F-score are ill-defined and being set to 0.0 in samples with no true labels. Use `zero_division` parameter to control this behavior.\n",
      "  _warn_prf(average, modifier, msg_start, len(result))\n"
     ]
    }
   ],
   "source": [
    "preds = clf_svc.predict(X_test_tfidf)\n",
    "print(classification_report(y_test, preds, target_names=categories))\n",
    "print(multilabel_confusion_matrix(y_test, preds))"
   ]
  }
 ],
 "metadata": {
  "kernelspec": {
   "display_name": "Python 3.11.5 64-bit",
   "language": "python",
   "name": "python3"
  },
  "language_info": {
   "codemirror_mode": {
    "name": "ipython",
    "version": 3
   },
   "file_extension": ".py",
   "mimetype": "text/x-python",
   "name": "python",
   "nbconvert_exporter": "python",
   "pygments_lexer": "ipython3",
   "version": "3.11.5"
  },
  "vscode": {
   "interpreter": {
    "hash": "b0fa6594d8f4cbf19f97940f81e996739fb7646882a419484c72d19e05852a7e"
   }
  }
 },
 "nbformat": 4,
 "nbformat_minor": 5
}
