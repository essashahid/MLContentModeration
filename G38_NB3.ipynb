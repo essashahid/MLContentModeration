{
 "cells": [
  {
   "cell_type": "markdown",
   "id": "62a1a4fd",
   "metadata": {},
   "source": [
    "# Introduction: Machine Learning Project Part 3: Advanced Content Moderation with Transformers\n",
    "\n",
    "In this third part of our machine learning project, we delve into the sophisticated realm of Transformer models, specifically focusing on BERT (Bidirectional Encoder Representations from Transformers) for content moderation. This segment of the project is dedicated to leveraging the advanced capabilities of Transformer architectures to enhance our model's ability to discern and categorize toxic comments in digital communication platforms accurately.\n",
    "\n",
    "![BERT Model](bert.png)\n",
    "\n",
    "Our approach in this phase encompasses:\n",
    "\n",
    "1. **Advanced Data Preprocessing**: Optimizing the dataset for Transformer model compatibility, ensuring the data is well-suited for complex model inputs.\n",
    "2. **Transformer Model Integration**: Implementing the BERT model, renowned for its effectiveness in natural language understanding and text classification tasks.\n",
    "3. **Model Training and Fine-tuning**: Detailed focus on customizing the BERT model to our dataset, meticulously tuning the parameters for optimal performance.\n",
    "4. **Comprehensive Model Evaluation**: Employing a robust set of metrics to evaluate the model's performance, ensuring high accuracy and reliability in classifying various forms of toxic content.\n",
    "5. **Insightful Interpretation of Results**: Deep analysis of the model's predictions to understand its decision-making process and the implications of its classifications.\n",
    "\n",
    "This part of the project is pivotal in harnessing the advanced capabilities of Transformer models, setting a new benchmark in automated content moderation technologies.\n",
    "\n",
    "# Experimentation Explanation\n",
    "Our project's decision to leverage BERT for sentiment classification stems from its breakthrough approach to contextual language understanding. Unlike traditional models that treat language linearly, BERT captures bidirectional context, allowing it to discern nuanced language patterns crucial for sentiment analysis. This becomes particularly useful in differentiating between nuanced expressions of sentiment that may be similar lexically but differ in emotional tone or intensity. The bidirectionality enables BERT to interpret complex sentence structures and idiomatic expressions, providing a robust framework for capturing the subtle cues that define sentiment."
   ]
  },
  {
   "cell_type": "markdown",
   "id": "a44b346f",
   "metadata": {},
   "source": [
    "# Library Imports and Initial Setup\n",
    "We start by importing essential libraries, laying the foundation for our advanced machine learning tasks. This includes Pandas for data handling, regular expressions (re) for text processing, NLTK for natural language tasks, and sklearn for model training and evaluation. Additionally, we incorporate Matplotlib for visualizations and NumPy for numerical operations. Crucially, we import specific Transformer-related libraries like BertTokenizer and BertModel, central to our model's architecture.\n"
   ]
  },
  {
   "cell_type": "code",
   "execution_count": 1,
   "id": "903608ac",
   "metadata": {},
   "outputs": [],
   "source": [
    "\n",
    "import pandas as pd\n",
    "import re\n",
    "from sklearn.model_selection import train_test_split\n",
    "from sklearn.feature_extraction.text import TfidfVectorizer\n",
    "import nltk\n",
    "#nltk.download('stopwords')\n",
    "#nltk.download('punkt')\n",
    "from nltk.corpus import stopwords\n",
    "from nltk.tokenize import word_tokenize\n",
    "from sklearn.naive_bayes import MultinomialNB\n",
    "from sklearn.svm import LinearSVC\n",
    "from sklearn.linear_model import LogisticRegression\n",
    "from sklearn.metrics import accuracy_score, f1_score, precision_score, recall_score, classification_report\n",
    "import matplotlib.pyplot as plt\n",
    "import numpy as np"
   ]
  },
  {
   "cell_type": "markdown",
   "metadata": {},
   "source": [
    "# Data Preprocessing Details\n",
    "For BERT to process our Jigsaw dataset effectively, we must transform the raw comments into a structured format that BERT can understand. This transformation includes the tokenization of sentences into word tokens understood by BERT, often breaking down complex words.\n",
    "\n",
    "Moreover, BERT requires attention masks to focus on meaningful content and ignore padding, as well as token type IDs to differentiate between multiple sentences or segments within a single input example. This is especially important in sentiment classification, where the relative position of words can alter the sentiment conveyed."
   ]
  },
  {
   "cell_type": "code",
   "execution_count": 3,
   "metadata": {},
   "outputs": [
    {
     "data": {
      "text/html": [
       "<div>\n",
       "<style scoped>\n",
       "    .dataframe tbody tr th:only-of-type {\n",
       "        vertical-align: middle;\n",
       "    }\n",
       "\n",
       "    .dataframe tbody tr th {\n",
       "        vertical-align: top;\n",
       "    }\n",
       "\n",
       "    .dataframe thead th {\n",
       "        text-align: right;\n",
       "    }\n",
       "</style>\n",
       "<table border=\"1\" class=\"dataframe\">\n",
       "  <thead>\n",
       "    <tr style=\"text-align: right;\">\n",
       "      <th></th>\n",
       "      <th>id</th>\n",
       "      <th>comment_text</th>\n",
       "      <th>toxic</th>\n",
       "      <th>severe_toxic</th>\n",
       "      <th>obscene</th>\n",
       "      <th>threat</th>\n",
       "      <th>insult</th>\n",
       "      <th>identity_hate</th>\n",
       "    </tr>\n",
       "  </thead>\n",
       "  <tbody>\n",
       "    <tr>\n",
       "      <th>0</th>\n",
       "      <td>0000997932d777bf</td>\n",
       "      <td>Explanation\\nWhy the edits made under my usern...</td>\n",
       "      <td>0</td>\n",
       "      <td>0</td>\n",
       "      <td>0</td>\n",
       "      <td>0</td>\n",
       "      <td>0</td>\n",
       "      <td>0</td>\n",
       "    </tr>\n",
       "    <tr>\n",
       "      <th>1</th>\n",
       "      <td>000103f0d9cfb60f</td>\n",
       "      <td>D'aww! He matches this background colour I'm s...</td>\n",
       "      <td>0</td>\n",
       "      <td>0</td>\n",
       "      <td>0</td>\n",
       "      <td>0</td>\n",
       "      <td>0</td>\n",
       "      <td>0</td>\n",
       "    </tr>\n",
       "    <tr>\n",
       "      <th>2</th>\n",
       "      <td>000113f07ec002fd</td>\n",
       "      <td>Hey man, I'm really not trying to edit war. It...</td>\n",
       "      <td>0</td>\n",
       "      <td>0</td>\n",
       "      <td>0</td>\n",
       "      <td>0</td>\n",
       "      <td>0</td>\n",
       "      <td>0</td>\n",
       "    </tr>\n",
       "    <tr>\n",
       "      <th>3</th>\n",
       "      <td>0001b41b1c6bb37e</td>\n",
       "      <td>\"\\nMore\\nI can't make any real suggestions on ...</td>\n",
       "      <td>0</td>\n",
       "      <td>0</td>\n",
       "      <td>0</td>\n",
       "      <td>0</td>\n",
       "      <td>0</td>\n",
       "      <td>0</td>\n",
       "    </tr>\n",
       "    <tr>\n",
       "      <th>4</th>\n",
       "      <td>0001d958c54c6e35</td>\n",
       "      <td>You, sir, are my hero. Any chance you remember...</td>\n",
       "      <td>0</td>\n",
       "      <td>0</td>\n",
       "      <td>0</td>\n",
       "      <td>0</td>\n",
       "      <td>0</td>\n",
       "      <td>0</td>\n",
       "    </tr>\n",
       "    <tr>\n",
       "      <th>...</th>\n",
       "      <td>...</td>\n",
       "      <td>...</td>\n",
       "      <td>...</td>\n",
       "      <td>...</td>\n",
       "      <td>...</td>\n",
       "      <td>...</td>\n",
       "      <td>...</td>\n",
       "      <td>...</td>\n",
       "    </tr>\n",
       "    <tr>\n",
       "      <th>159566</th>\n",
       "      <td>ffe987279560d7ff</td>\n",
       "      <td>\":::::And for the second time of asking, when ...</td>\n",
       "      <td>0</td>\n",
       "      <td>0</td>\n",
       "      <td>0</td>\n",
       "      <td>0</td>\n",
       "      <td>0</td>\n",
       "      <td>0</td>\n",
       "    </tr>\n",
       "    <tr>\n",
       "      <th>159567</th>\n",
       "      <td>ffea4adeee384e90</td>\n",
       "      <td>You should be ashamed of yourself \\n\\nThat is ...</td>\n",
       "      <td>0</td>\n",
       "      <td>0</td>\n",
       "      <td>0</td>\n",
       "      <td>0</td>\n",
       "      <td>0</td>\n",
       "      <td>0</td>\n",
       "    </tr>\n",
       "    <tr>\n",
       "      <th>159568</th>\n",
       "      <td>ffee36eab5c267c9</td>\n",
       "      <td>Spitzer \\n\\nUmm, theres no actual article for ...</td>\n",
       "      <td>0</td>\n",
       "      <td>0</td>\n",
       "      <td>0</td>\n",
       "      <td>0</td>\n",
       "      <td>0</td>\n",
       "      <td>0</td>\n",
       "    </tr>\n",
       "    <tr>\n",
       "      <th>159569</th>\n",
       "      <td>fff125370e4aaaf3</td>\n",
       "      <td>And it looks like it was actually you who put ...</td>\n",
       "      <td>0</td>\n",
       "      <td>0</td>\n",
       "      <td>0</td>\n",
       "      <td>0</td>\n",
       "      <td>0</td>\n",
       "      <td>0</td>\n",
       "    </tr>\n",
       "    <tr>\n",
       "      <th>159570</th>\n",
       "      <td>fff46fc426af1f9a</td>\n",
       "      <td>\"\\nAnd ... I really don't think you understand...</td>\n",
       "      <td>0</td>\n",
       "      <td>0</td>\n",
       "      <td>0</td>\n",
       "      <td>0</td>\n",
       "      <td>0</td>\n",
       "      <td>0</td>\n",
       "    </tr>\n",
       "  </tbody>\n",
       "</table>\n",
       "<p>159571 rows × 8 columns</p>\n",
       "</div>"
      ],
      "text/plain": [
       "                      id                                       comment_text  \\\n",
       "0       0000997932d777bf  Explanation\\nWhy the edits made under my usern...   \n",
       "1       000103f0d9cfb60f  D'aww! He matches this background colour I'm s...   \n",
       "2       000113f07ec002fd  Hey man, I'm really not trying to edit war. It...   \n",
       "3       0001b41b1c6bb37e  \"\\nMore\\nI can't make any real suggestions on ...   \n",
       "4       0001d958c54c6e35  You, sir, are my hero. Any chance you remember...   \n",
       "...                  ...                                                ...   \n",
       "159566  ffe987279560d7ff  \":::::And for the second time of asking, when ...   \n",
       "159567  ffea4adeee384e90  You should be ashamed of yourself \\n\\nThat is ...   \n",
       "159568  ffee36eab5c267c9  Spitzer \\n\\nUmm, theres no actual article for ...   \n",
       "159569  fff125370e4aaaf3  And it looks like it was actually you who put ...   \n",
       "159570  fff46fc426af1f9a  \"\\nAnd ... I really don't think you understand...   \n",
       "\n",
       "        toxic  severe_toxic  obscene  threat  insult  identity_hate  \n",
       "0           0             0        0       0       0              0  \n",
       "1           0             0        0       0       0              0  \n",
       "2           0             0        0       0       0              0  \n",
       "3           0             0        0       0       0              0  \n",
       "4           0             0        0       0       0              0  \n",
       "...       ...           ...      ...     ...     ...            ...  \n",
       "159566      0             0        0       0       0              0  \n",
       "159567      0             0        0       0       0              0  \n",
       "159568      0             0        0       0       0              0  \n",
       "159569      0             0        0       0       0              0  \n",
       "159570      0             0        0       0       0              0  \n",
       "\n",
       "[159571 rows x 8 columns]"
      ]
     },
     "execution_count": 3,
     "metadata": {},
     "output_type": "execute_result"
    }
   ],
   "source": [
    "# Load and preprocess the training data\n",
    "train_file_path = 'data/train.csv'\n",
    "data = pd.read_csv(train_file_path)\n",
    "\n",
    "#data['comment_text'] = preprocess_data(data['comment_text'])\n",
    "data"
   ]
  },
  {
   "cell_type": "code",
   "execution_count": 4,
   "metadata": {},
   "outputs": [
    {
     "data": {
      "text/html": [
       "<div>\n",
       "<style scoped>\n",
       "    .dataframe tbody tr th:only-of-type {\n",
       "        vertical-align: middle;\n",
       "    }\n",
       "\n",
       "    .dataframe tbody tr th {\n",
       "        vertical-align: top;\n",
       "    }\n",
       "\n",
       "    .dataframe thead th {\n",
       "        text-align: right;\n",
       "    }\n",
       "</style>\n",
       "<table border=\"1\" class=\"dataframe\">\n",
       "  <thead>\n",
       "    <tr style=\"text-align: right;\">\n",
       "      <th></th>\n",
       "      <th>id</th>\n",
       "      <th>comment_text</th>\n",
       "      <th>toxic</th>\n",
       "      <th>severe_toxic</th>\n",
       "      <th>obscene</th>\n",
       "      <th>threat</th>\n",
       "      <th>insult</th>\n",
       "      <th>identity_hate</th>\n",
       "    </tr>\n",
       "  </thead>\n",
       "  <tbody>\n",
       "    <tr>\n",
       "      <th>5</th>\n",
       "      <td>0001ea8717f6de06</td>\n",
       "      <td>Thank you for understanding. I think very high...</td>\n",
       "      <td>0</td>\n",
       "      <td>0</td>\n",
       "      <td>0</td>\n",
       "      <td>0</td>\n",
       "      <td>0</td>\n",
       "      <td>0</td>\n",
       "    </tr>\n",
       "    <tr>\n",
       "      <th>7</th>\n",
       "      <td>000247e83dcc1211</td>\n",
       "      <td>:Dear god this site is horrible.</td>\n",
       "      <td>0</td>\n",
       "      <td>0</td>\n",
       "      <td>0</td>\n",
       "      <td>0</td>\n",
       "      <td>0</td>\n",
       "      <td>0</td>\n",
       "    </tr>\n",
       "    <tr>\n",
       "      <th>11</th>\n",
       "      <td>0002f87b16116a7f</td>\n",
       "      <td>\"::: Somebody will invariably try to add Relig...</td>\n",
       "      <td>0</td>\n",
       "      <td>0</td>\n",
       "      <td>0</td>\n",
       "      <td>0</td>\n",
       "      <td>0</td>\n",
       "      <td>0</td>\n",
       "    </tr>\n",
       "    <tr>\n",
       "      <th>13</th>\n",
       "      <td>0003e1cccfd5a40a</td>\n",
       "      <td>\" \\n\\n It says it right there that it IS a typ...</td>\n",
       "      <td>0</td>\n",
       "      <td>0</td>\n",
       "      <td>0</td>\n",
       "      <td>0</td>\n",
       "      <td>0</td>\n",
       "      <td>0</td>\n",
       "    </tr>\n",
       "    <tr>\n",
       "      <th>14</th>\n",
       "      <td>00059ace3e3e9a53</td>\n",
       "      <td>\" \\n\\n == Before adding a new product to the l...</td>\n",
       "      <td>0</td>\n",
       "      <td>0</td>\n",
       "      <td>0</td>\n",
       "      <td>0</td>\n",
       "      <td>0</td>\n",
       "      <td>0</td>\n",
       "    </tr>\n",
       "    <tr>\n",
       "      <th>...</th>\n",
       "      <td>...</td>\n",
       "      <td>...</td>\n",
       "      <td>...</td>\n",
       "      <td>...</td>\n",
       "      <td>...</td>\n",
       "      <td>...</td>\n",
       "      <td>...</td>\n",
       "      <td>...</td>\n",
       "    </tr>\n",
       "    <tr>\n",
       "      <th>153150</th>\n",
       "      <td>fff8f64043129fa2</td>\n",
       "      <td>:Jerome, I see you never got around to this…! ...</td>\n",
       "      <td>0</td>\n",
       "      <td>0</td>\n",
       "      <td>0</td>\n",
       "      <td>0</td>\n",
       "      <td>0</td>\n",
       "      <td>0</td>\n",
       "    </tr>\n",
       "    <tr>\n",
       "      <th>153151</th>\n",
       "      <td>fff9d70fe0722906</td>\n",
       "      <td>==Lucky bastard== \\n http://wikimediafoundatio...</td>\n",
       "      <td>0</td>\n",
       "      <td>0</td>\n",
       "      <td>0</td>\n",
       "      <td>0</td>\n",
       "      <td>0</td>\n",
       "      <td>0</td>\n",
       "    </tr>\n",
       "    <tr>\n",
       "      <th>153154</th>\n",
       "      <td>fffa8a11c4378854</td>\n",
       "      <td>==shame on you all!!!== \\n\\n You want to speak...</td>\n",
       "      <td>0</td>\n",
       "      <td>0</td>\n",
       "      <td>0</td>\n",
       "      <td>0</td>\n",
       "      <td>0</td>\n",
       "      <td>0</td>\n",
       "    </tr>\n",
       "    <tr>\n",
       "      <th>153155</th>\n",
       "      <td>fffac2a094c8e0e2</td>\n",
       "      <td>MEL GIBSON IS A NAZI BITCH WHO MAKES SHITTY MO...</td>\n",
       "      <td>1</td>\n",
       "      <td>0</td>\n",
       "      <td>1</td>\n",
       "      <td>0</td>\n",
       "      <td>1</td>\n",
       "      <td>0</td>\n",
       "    </tr>\n",
       "    <tr>\n",
       "      <th>153156</th>\n",
       "      <td>fffb5451268fb5ba</td>\n",
       "      <td>\" \\n\\n == Unicorn lair discovery == \\n\\n Suppo...</td>\n",
       "      <td>0</td>\n",
       "      <td>0</td>\n",
       "      <td>0</td>\n",
       "      <td>0</td>\n",
       "      <td>0</td>\n",
       "      <td>0</td>\n",
       "    </tr>\n",
       "  </tbody>\n",
       "</table>\n",
       "<p>63978 rows × 8 columns</p>\n",
       "</div>"
      ],
      "text/plain": [
       "                      id                                       comment_text  \\\n",
       "5       0001ea8717f6de06  Thank you for understanding. I think very high...   \n",
       "7       000247e83dcc1211                   :Dear god this site is horrible.   \n",
       "11      0002f87b16116a7f  \"::: Somebody will invariably try to add Relig...   \n",
       "13      0003e1cccfd5a40a  \" \\n\\n It says it right there that it IS a typ...   \n",
       "14      00059ace3e3e9a53  \" \\n\\n == Before adding a new product to the l...   \n",
       "...                  ...                                                ...   \n",
       "153150  fff8f64043129fa2  :Jerome, I see you never got around to this…! ...   \n",
       "153151  fff9d70fe0722906  ==Lucky bastard== \\n http://wikimediafoundatio...   \n",
       "153154  fffa8a11c4378854  ==shame on you all!!!== \\n\\n You want to speak...   \n",
       "153155  fffac2a094c8e0e2  MEL GIBSON IS A NAZI BITCH WHO MAKES SHITTY MO...   \n",
       "153156  fffb5451268fb5ba  \" \\n\\n == Unicorn lair discovery == \\n\\n Suppo...   \n",
       "\n",
       "        toxic  severe_toxic  obscene  threat  insult  identity_hate  \n",
       "5           0             0        0       0       0              0  \n",
       "7           0             0        0       0       0              0  \n",
       "11          0             0        0       0       0              0  \n",
       "13          0             0        0       0       0              0  \n",
       "14          0             0        0       0       0              0  \n",
       "...       ...           ...      ...     ...     ...            ...  \n",
       "153150      0             0        0       0       0              0  \n",
       "153151      0             0        0       0       0              0  \n",
       "153154      0             0        0       0       0              0  \n",
       "153155      1             0        1       0       1              0  \n",
       "153156      0             0        0       0       0              0  \n",
       "\n",
       "[63978 rows x 8 columns]"
      ]
     },
     "execution_count": 4,
     "metadata": {},
     "output_type": "execute_result"
    }
   ],
   "source": [
    "# Load and preprocess the test data\n",
    "test_file_path = 'data/test.csv'  # Replace with the actual path to your test.csv file\n",
    "test_label_path = 'data/test_labels.csv'\n",
    "test_data = pd.read_csv(test_file_path)\n",
    "test_labels = pd.read_csv(test_label_path)\n",
    "\n",
    "# Merge/join the dataframes based on the 'id' column\n",
    "merged_data = pd.merge(test_data, test_labels, on='id')\n",
    "\n",
    "# there are alot of comments that are not givien any labels so just filtering those out\n",
    "filtered_test_data = merged_data[merged_data.iloc[:, 2:].sum(axis=1)>=0] \n",
    "\n",
    "\n",
    "y_test = filtered_test_data[['toxic', 'severe_toxic', 'obscene', 'threat', 'insult', 'identity_hate']].to_numpy()\n",
    "\n",
    "filtered_test_data"
   ]
  },
  {
   "cell_type": "markdown",
   "metadata": {},
   "source": [
    "# Data Analysis/Reduction"
   ]
  },
  {
   "cell_type": "markdown",
   "metadata": {},
   "source": [
    "From previous tasks we have seen that data is really imbalanced \n",
    "so we are going to have a look into how much we can reduce the data\n",
    "We are going to pick all the labeled data (any class labeled as 1)\n",
    "And we are going to take equal number of zero class data\n",
    "\n",
    "It will make the data much small and speed up our training because transformers take a lot of time in training\n",
    "\n",
    "Given the known imbalance in our dataset, we conduct a detailed analysis to understand its extent. Our strategy involves selecting an equal number of labeled (toxic) and unlabeled (non-toxic) comments to balance the dataset, a crucial step for unbiased model training. This section also visualizes the sequence length distribution, aiding in setting appropriate sequence lengths for our Transformer model."
   ]
  },
  {
   "cell_type": "code",
   "execution_count": 30,
   "metadata": {},
   "outputs": [
    {
     "data": {
      "text/plain": [
       "((16225, 8), (16225, 8))"
      ]
     },
     "execution_count": 30,
     "metadata": {},
     "output_type": "execute_result"
    }
   ],
   "source": [
    "classes_data = data[data[categories].sum(axis=1) !=0]\n",
    "non_classes_data = data[data[categories].sum(axis=1) ==0]\n",
    "\n",
    "classes_data.shape, non_classes_data.shape"
   ]
  },
  {
   "cell_type": "markdown",
   "metadata": {},
   "source": [
    "- We are going to skip some of the zero class examples\n",
    "- Because it will make data much more balanced"
   ]
  },
  {
   "cell_type": "markdown",
   "metadata": {},
   "source": [
    "Merging the classed and non classed data with equal number of examples for both"
   ]
  },
  {
   "cell_type": "code",
   "execution_count": 7,
   "metadata": {},
   "outputs": [],
   "source": [
    "data = pd.concat(  [non_classes_data.sample(len(classes_data)), classes_data])"
   ]
  },
  {
   "cell_type": "markdown",
   "metadata": {},
   "source": [
    "Checking for the nominal sequence lenght for our data\n",
    "\n",
    "- x-axis: Number of words\n",
    "- y-axis: frequency\n",
    "\n",
    "As you can see that almost 95% of the sentences are within 200 word, so we fixed the seq_len to 200"
   ]
  },
  {
   "cell_type": "code",
   "execution_count": 9,
   "metadata": {},
   "outputs": [
    {
     "name": "stdout",
     "output_type": "stream",
     "text": [
      "1411\n"
     ]
    },
    {
     "data": {
      "image/png": "[encoded data removed]",
      "text/plain": [
       "<Figure size 640x480 with 1 Axes>"
      ]
     },
     "metadata": {},
     "output_type": "display_data"
    }
   ],
   "source": [
    "seq_len = [len(i.split()) for i in data[\"comment_text\"]]\n",
    "pd.Series(seq_len).hist(bins = 30)\n",
    "max_seq_len = max(seq_len)\n",
    "print(max_seq_len)"
   ]
  },
  {
   "cell_type": "markdown",
   "metadata": {},
   "source": [
    "This shows most comments are within 200 words\n",
    "so 200 tokens would be sufficient for our transformer"
   ]
  },
  {
   "cell_type": "markdown",
   "metadata": {},
   "source": [
    "# Splitting Data\n",
    "In this part we will split data to training and validation using using a 85-15 train split"
   ]
  },
  {
   "cell_type": "code",
   "execution_count": 8,
   "metadata": {},
   "outputs": [],
   "source": [
    "data = data[data[\"comment_text\"] != \"\"]"
   ]
  },
  {
   "cell_type": "code",
   "execution_count": 10,
   "id": "58fc3a40",
   "metadata": {},
   "outputs": [
    {
     "data": {
      "text/plain": [
       "((27582, 8), (4868, 8))"
      ]
     },
     "execution_count": 10,
     "metadata": {},
     "output_type": "execute_result"
    }
   ],
   "source": [
    "# Splitting the training data into training and validation sets (85% - 15%)\n",
    "train_data, val_data = train_test_split(data, test_size=0.15, random_state=42)\n",
    "train_data.shape, val_data.shape"
   ]
  },
  {
   "cell_type": "code",
   "execution_count": 11,
   "id": "0831ff42",
   "metadata": {},
   "outputs": [],
   "source": [
    "categories = ['toxic', 'severe_toxic', 'obscene', 'threat', 'insult', 'identity_hate']\n",
    "\n",
    "x_train = train_data['comment_text'].to_numpy()\n",
    "x_val = val_data['comment_text'].to_numpy()\n",
    "\n",
    "y_train = train_data[categories].to_numpy()\n",
    "y_val = val_data[categories].to_numpy()"
   ]
  },
  {
   "cell_type": "markdown",
   "metadata": {},
   "source": [
    "# BERT Tokenizer Initialization and Data Tokenization\n",
    "Here, we initialize the BERT tokenizer, a pivotal step in preparing our dataset for the Transformer model. We define a custom dataset class to handle the tokenization process, ensuring that each comment text is appropriately converted into token IDs and attention masks, following the format required by the BERT model.\n",
    "\n",
    "As we are going to use BERT for this part, we need BERT Tokenzier to make the input compatible with BERT model \n"
   ]
  },
  {
   "cell_type": "code",
   "execution_count": 13,
   "metadata": {},
   "outputs": [],
   "source": [
    "from transformers import BertTokenizer, BertModel, GPT2Tokenizer\n",
    "from torch.utils.data import DataLoader, TensorDataset\n",
    "import tiktoken\n",
    "import torch\n",
    "# Load tokenizer\n",
    "tokenizer = BertTokenizer.from_pretrained('bert-base-uncased')\n"
   ]
  },
  {
   "cell_type": "markdown",
   "metadata": {},
   "source": [
    "# Training and Validation Data Preparation\n",
    "\n",
    "We initialize our Transformer model and prepare the dataset for training. This involves setting up the BertTokenizer, defining custom Dataset and DataLoader classes for handling our text data, and ensuring that our data is compatible with the BERT model structure.\n",
    "\n",
    "We split our dataset into training and validation sets. This step is crucial for training our model effectively and evaluating its performance on unseen data, ensuring that our model can generalize well.\n"
   ]
  },
  {
   "cell_type": "markdown",
   "metadata": {},
   "source": [
    "## BERT"
   ]
  },
  {
   "cell_type": "code",
   "execution_count": 17,
   "metadata": {},
   "outputs": [],
   "source": [
    "from torch.utils.data import DataLoader, Dataset\n",
    "from gpt4all import Embed4All\n",
    "from pytorch_multilabel_balanced_sampler.samplers import RandomClassSampler, ClassCycleSampler, LeastSampledClassSampler\n",
    "\n",
    "class CustomDataset(Dataset):\n",
    "    # It was needed to handle the attention masks and token ids\n",
    "    def __init__(self, comment_texts, y):\n",
    "        self.comment_texts = comment_texts\n",
    "        self.y = y\n",
    "        self.tokenizer = tokenizer\n",
    "\n",
    "        # max len is 200 because as shown above most comments are covered within 200 words\n",
    "        self.max_len =  200\n",
    "\n",
    "    def __len__(self):\n",
    "        return len(self.y)\n",
    "\n",
    "    def __getitem__(self, idx):\n",
    "        comment_text = str(self.comment_texts[idx])\n",
    "        comment_text = \" \".join(comment_text.split())\n",
    "        inputs = self.tokenizer.encode_plus(\n",
    "            comment_text,\n",
    "            None,\n",
    "            add_special_tokens=True,\n",
    "            max_length=self.max_len,\n",
    "            pad_to_max_length=True,\n",
    "            return_token_type_ids=True,\n",
    "            truncation=True\n",
    "        )\n",
    "        ids = inputs['input_ids']\n",
    "        mask = inputs['attention_mask']\n",
    "        token_type_ids = inputs[\"token_type_ids\"]\n",
    "        \n",
    "        return {\n",
    "            'ids': torch.tensor(ids, dtype=torch.long),\n",
    "            'mask': torch.tensor(mask, dtype=torch.long),\n",
    "            'token_type_ids': torch.tensor(token_type_ids, dtype=torch.long),\n",
    "            'targets': torch.tensor(self.y[idx], dtype=torch.float)\n",
    "        }\n",
    "\n",
    "\n",
    "# Create datasets\n",
    "train_dataset = CustomDataset(train_data['comment_text'].to_list(), torch.tensor(y_train, dtype=torch.float))\n",
    "val_dataset = CustomDataset(val_data['comment_text'].to_list(), torch.tensor(y_val, dtype=torch.float))\n",
    "\n",
    "# Create dataloaders\n",
    "train_loader = DataLoader(train_dataset, batch_size=24, shuffle=True) #sampler=sampler)\n",
    "val_loader = DataLoader(val_dataset, batch_size=48, shuffle=False)"
   ]
  },
  {
   "cell_type": "markdown",
   "id": "7c691207",
   "metadata": {},
   "source": [
    "# Model Function and Advantages\n",
    "BERT's self-attention mechanism is a game-changer for sentiment classification. It allows each token to be processed in the context of all others, making it possible to understand not just the sentiment of individual words but also how the sentiment of a word can be affected by the rest of the sentence. For example, negations and conditionals, common in sentiment-laden sentences, are effectively captured by BERT. This deep understanding of context enables BERT to outperform models that might rely on bag-of-words approaches like TF-IDF, which cannot capture such intricacies of language."
   ]
  },
  {
   "cell_type": "code",
   "execution_count": 18,
   "metadata": {},
   "outputs": [
    {
     "name": "stderr",
     "output_type": "stream",
     "text": [
      "Some weights of BertForSequenceClassification were not initialized from the model checkpoint at bert-base-uncased and are newly initialized: ['classifier.weight', 'classifier.bias']\n",
      "You should probably TRAIN this model on a down-stream task to be able to use it for predictions and inference.\n"
     ]
    }
   ],
   "source": [
    "\n",
    "import torch\n",
    "from transformers import BertForSequenceClassification\n",
    "from sklearn.metrics import accuracy_score, precision_score, recall_score, f1_score\n",
    "from torch.nn import BCEWithLogitsLoss\n",
    "from torch.nn.functional import binary_cross_entropy_with_logits\n",
    "from tqdm import tqdm\n",
    "\n",
    "# Custom model for multi-label sequence classification\n",
    "class BertForMultiLabelSequenceClassification(torch.nn.Module):\n",
    "    def __init__(self, num_labels):\n",
    "        super(BertForMultiLabelSequenceClassification, self).__init__()\n",
    "        self.num_labels = num_labels\n",
    "        self.bert = BertForSequenceClassification.from_pretrained('bert-base-uncased', num_labels=num_labels)\n",
    "\n",
    "        \n",
    "    def forward(self, input_ids, attention_mask, token_type_ids):\n",
    "        outputs = self.bert(input_ids, attention_mask = attention_mask, token_type_ids = token_type_ids)\n",
    "        \n",
    "        return outputs['logits']\n",
    "\n",
    "# Initialize custom model\n",
    "model = BertForMultiLabelSequenceClassification(num_labels=len(categories))\n",
    "\n"
   ]
  },
  {
   "cell_type": "markdown",
   "id": "996c1400",
   "metadata": {},
   "source": [
    "# Training Methodology\n",
    "The training process for our sentiment classification model is meticulously crafted to balance between learning from the pre-trained BERT model and adapting to the specific nuances of the Jigsaw dataset. A conservative learning rate of 1e-5 is chosen based on empirical evidence suggesting that it allows for effective fine-tuning without causing the catastrophic forgetting of the valuable pre-trained knowledge. The choice of epochs, batch size, and other hyperparameters is also the result of careful consideration, balancing computational resources with the need for a thorough exploration of the parameter space. The Cross-Entropy Loss function is particularly suited for our multi-class sentiment classification task, as it is designed to work with probabilities and can handle the complexity of multiple sentiment classes.\n",
    "\n",
    "\n",
    "# Visualizations\n",
    "Visual representations of the model's training and evaluation process are crucial for understanding its performance. By plotting loss and accuracy curves over each training epoch, we can monitor the model's progress and make any necessary adjustments. Additionally, visualizations such as confusion matrices provide clarity on how the model performs across different sentiment classes, allowing us to pinpoint areas where the model excels or falls short."
   ]
  },
  {
   "cell_type": "code",
   "execution_count": 29,
   "metadata": {},
   "outputs": [
    {
     "name": "stderr",
     "output_type": "stream",
     "text": [
      "  0%|          | 0/1150 [00:00<?, ?it/s]/home/junaid/anaconda3/envs/pytorch/lib/python3.11/site-packages/transformers/tokenization_utils_base.py:2614: FutureWarning: The `pad_to_max_length` argument is deprecated and will be removed in a future version, use `padding=True` or `padding='longest'` to pad to the longest sequence in the batch, or use `padding='max_length'` to pad to a max length. In this case, you can give a specific length with `max_length` (e.g. `max_length=45`) or leave max_length to None to pad to the maximal input size of the model (e.g. 512 for Bert).\n",
      "  warnings.warn(\n",
      "/tmp/ipykernel_18988/1840981107.py:38: UserWarning: To copy construct from a tensor, it is recommended to use sourceTensor.clone().detach() or sourceTensor.clone().detach().requires_grad_(True), rather than torch.tensor(sourceTensor).\n",
      "  'targets': torch.tensor(self.y[idx], dtype=torch.float)\n",
      "Epoch 1/5, Loss: 0.1344: 100%|██████████| 1150/1150 [10:43<00:00,  1.79it/s]\n",
      "Epoch 2/5, Loss: 0.1174: 100%|██████████| 1150/1150 [10:44<00:00,  1.79it/s]\n",
      "Epoch 3/5, Loss: 0.1018: 100%|██████████| 1150/1150 [10:43<00:00,  1.79it/s]\n",
      "Epoch 4/5, Loss: 0.0864: 100%|██████████| 1150/1150 [10:47<00:00,  1.78it/s]\n",
      "Epoch 5/5, Loss: 0.0718: 100%|██████████| 1150/1150 [10:32<00:00,  1.82it/s]\n"
     ]
    }
   ],
   "source": [
    "# Define optimizer\n",
    "# We are fine tuning so the learning rate is really small\n",
    "optimizer = torch.optim.AdamW(model.parameters(), lr=1e-05)\n",
    "\n",
    "device = \"cuda\"\n",
    "# Train the model\n",
    "# training for 5 epochs because it takes a lot of time\n",
    "epochs = 5\n",
    "model = model.to(device)\n",
    "model.train()\n",
    "for epoch in range(epochs):\n",
    "    m_loss = 0\n",
    "    model.train()\n",
    "    pbar = tqdm(train_loader)\n",
    "    for i, batch in enumerate(pbar):\n",
    "        ids = batch['ids'].to(device, dtype = torch.long)\n",
    "        mask = batch['mask'].to(device, dtype = torch.long)\n",
    "        token_type_ids = batch['token_type_ids'].to(device, dtype = torch.long)\n",
    "        targets = batch['targets'].to(device, dtype = torch.float)\n",
    "\n",
    "        \n",
    "        \n",
    "        logits = model(ids, mask, token_type_ids)\n",
    "        \n",
    "        \n",
    "        optimizer.zero_grad()\n",
    "        # Usin BCE because of multi-label setting of data\n",
    "        # with logits because we are not applying any sigmoid over it\n",
    "        loss = torch.nn.BCEWithLogitsLoss()(logits, targets)\n",
    "        loss.backward()\n",
    "        optimizer.step()\n",
    "\n",
    "        m_loss += loss.item()\n",
    "\n",
    "        pbar.set_description(f\"Epoch {epoch+1}/{epochs}, Loss: {m_loss / (i+1):.4f}\")\n"
   ]
  },
  {
   "cell_type": "markdown",
   "id": "d587723c",
   "metadata": {},
   "source": [
    "# Model Evaluation and Validation\n",
    "After training, we rigorously evaluate the model's performance on both validation and test sets. This evaluation is comprehensive, involving various metrics to assess the accuracy, precision, recall, and F1 score of our model. This step is vital to ensure the model's effectiveness and reliability in classifying toxic comments in diverse scenarios."
   ]
  },
  {
   "cell_type": "code",
   "execution_count": 34,
   "metadata": {},
   "outputs": [
    {
     "name": "stderr",
     "output_type": "stream",
     "text": [
      "  0%|          | 0/102 [00:00<?, ?it/s]"
     ]
    },
    {
     "name": "stderr",
     "output_type": "stream",
     "text": [
      "/home/junaid/anaconda3/envs/pytorch/lib/python3.11/site-packages/transformers/tokenization_utils_base.py:2614: FutureWarning: The `pad_to_max_length` argument is deprecated and will be removed in a future version, use `padding=True` or `padding='longest'` to pad to the longest sequence in the batch, or use `padding='max_length'` to pad to a max length. In this case, you can give a specific length with `max_length` (e.g. `max_length=45`) or leave max_length to None to pad to the maximal input size of the model (e.g. 512 for Bert).\n",
      "  warnings.warn(\n",
      "/tmp/ipykernel_18988/1840981107.py:38: UserWarning: To copy construct from a tensor, it is recommended to use sourceTensor.clone().detach() or sourceTensor.clone().detach().requires_grad_(True), rather than torch.tensor(sourceTensor).\n",
      "  'targets': torch.tensor(self.y[idx], dtype=torch.float)\n",
      "  4%|▍         | 4/102 [00:01<00:47,  2.08it/s]"
     ]
    },
    {
     "name": "stdout",
     "output_type": "stream",
     "text": [
      "               precision    recall  f1-score   support\n",
      "\n",
      "        toxic       0.91      0.92      0.92       115\n",
      " severe_toxic       0.50      0.38      0.43        13\n",
      "      obscene       0.78      0.88      0.83        60\n",
      "       threat       1.00      0.40      0.57         5\n",
      "       insult       0.69      0.80      0.74        55\n",
      "identity_hate       0.30      0.33      0.32         9\n",
      "\n",
      "    micro avg       0.79      0.83      0.81       257\n",
      "    macro avg       0.70      0.62      0.63       257\n",
      " weighted avg       0.79      0.83      0.81       257\n",
      "  samples avg       0.38      0.40      0.38       257\n",
      "\n"
     ]
    },
    {
     "name": "stderr",
     "output_type": "stream",
     "text": [
      "\n",
      "/home/junaid/anaconda3/envs/pytorch/lib/python3.11/site-packages/sklearn/metrics/_classification.py:1471: UndefinedMetricWarning: Precision and F-score are ill-defined and being set to 0.0 in samples with no predicted labels. Use `zero_division` parameter to control this behavior.\n",
      "  _warn_prf(average, modifier, msg_start, len(result))\n",
      "/home/junaid/anaconda3/envs/pytorch/lib/python3.11/site-packages/sklearn/metrics/_classification.py:1471: UndefinedMetricWarning: Recall and F-score are ill-defined and being set to 0.0 in samples with no true labels. Use `zero_division` parameter to control this behavior.\n",
      "  _warn_prf(average, modifier, msg_start, len(result))\n"
     ]
    }
   ],
   "source": [
    "# just validating the model on some examples\n",
    "# Evaluate the model\n",
    "model.eval()\n",
    "y_pred = []\n",
    "y_true = []\n",
    "\n",
    "with torch.no_grad():\n",
    "    for batch in tqdm(val_loader):\n",
    "        ids = batch['ids'].to(device, dtype = torch.long)\n",
    "        mask = batch['mask'].to(device, dtype = torch.long)\n",
    "        token_type_ids = batch['token_type_ids'].to(device, dtype = torch.long)\n",
    "        targets = batch['targets']\n",
    "\n",
    "        logits = model(ids, mask, token_type_ids)\n",
    "        \n",
    "        y_pred.extend(logits.sigmoid().round().detach().cpu().numpy())\n",
    "        y_true.extend(targets.detach().cpu().numpy())\n",
    "        if len(y_true) > 200:\n",
    "           break\n",
    "\n",
    "print(classification_report(y_true, y_pred, target_names=categories))\n"
   ]
  },
  {
   "cell_type": "markdown",
   "metadata": {},
   "source": [
    "### Preparing Test data"
   ]
  },
  {
   "cell_type": "code",
   "execution_count": 32,
   "id": "48414509",
   "metadata": {},
   "outputs": [],
   "source": [
    "\n",
    "# Create datasets\n",
    "test_dataset = CustomDataset(filtered_test_data['comment_text'].to_list(), torch.tensor(y_test, dtype=torch.float))\n",
    "\n",
    "# Create dataloaders\n",
    "test_loader = DataLoader(test_dataset, batch_size=48, shuffle=False)\n"
   ]
  },
  {
   "cell_type": "markdown",
   "id": "6e7c46c3",
   "metadata": {},
   "source": [
    "# Evaluation Metrics and Class Imbalance\n",
    "We employ a robust suite of evaluation metrics to comprehensively assess our model's performance. Accuracy provides an overall effectiveness rate, but precision, recall, and the F1-score offer more nuanced insights into the model's ability to handle class imbalances. Precision measures the model's ability to correctly identify positive sentiment instances, while recall gauges its ability to capture all relevant instances. The F1-score, as a harmonic mean of precision and recall, gives us a single metric that balances both concerns – particularly valuable in a dataset like Jigsaw's, which contains imbalanced sentiment classes. To counter the class imbalance, we've implemented stratified sampling and adjusted class weights within the loss function, promoting a more balanced learning and avoiding bias towards any particular sentiment class."
   ]
  },
  {
   "cell_type": "code",
   "execution_count": 33,
   "metadata": {},
   "outputs": [
    {
     "name": "stderr",
     "output_type": "stream",
     "text": [
      "  0%|          | 0/1333 [00:00<?, ?it/s]/home/junaid/anaconda3/envs/pytorch/lib/python3.11/site-packages/transformers/tokenization_utils_base.py:2614: FutureWarning: The `pad_to_max_length` argument is deprecated and will be removed in a future version, use `padding=True` or `padding='longest'` to pad to the longest sequence in the batch, or use `padding='max_length'` to pad to a max length. In this case, you can give a specific length with `max_length` (e.g. `max_length=45`) or leave max_length to None to pad to the maximal input size of the model (e.g. 512 for Bert).\n",
      "  warnings.warn(\n",
      "/tmp/ipykernel_18988/1840981107.py:38: UserWarning: To copy construct from a tensor, it is recommended to use sourceTensor.clone().detach() or sourceTensor.clone().detach().requires_grad_(True), rather than torch.tensor(sourceTensor).\n",
      "  'targets': torch.tensor(self.y[idx], dtype=torch.float)\n",
      "100%|██████████| 1333/1333 [08:25<00:00,  2.64it/s]"
     ]
    },
    {
     "name": "stdout",
     "output_type": "stream",
     "text": [
      "               precision    recall  f1-score   support\n",
      "\n",
      "        toxic       0.40      0.96      0.56      6090\n",
      " severe_toxic       0.29      0.41      0.34       367\n",
      "      obscene       0.52      0.83      0.63      3691\n",
      "       threat       0.50      0.58      0.54       211\n",
      "       insult       0.58      0.78      0.66      3427\n",
      "identity_hate       0.43      0.73      0.54       712\n",
      "\n",
      "    micro avg       0.46      0.85      0.59     14498\n",
      "    macro avg       0.45      0.71      0.55     14498\n",
      " weighted avg       0.47      0.85      0.60     14498\n",
      "  samples avg       0.08      0.08      0.08     14498\n",
      "\n"
     ]
    },
    {
     "name": "stderr",
     "output_type": "stream",
     "text": [
      "\n",
      "/home/junaid/anaconda3/envs/pytorch/lib/python3.11/site-packages/sklearn/metrics/_classification.py:1471: UndefinedMetricWarning: Precision and F-score are ill-defined and being set to 0.0 in samples with no predicted labels. Use `zero_division` parameter to control this behavior.\n",
      "  _warn_prf(average, modifier, msg_start, len(result))\n",
      "/home/junaid/anaconda3/envs/pytorch/lib/python3.11/site-packages/sklearn/metrics/_classification.py:1471: UndefinedMetricWarning: Recall and F-score are ill-defined and being set to 0.0 in samples with no true labels. Use `zero_division` parameter to control this behavior.\n",
      "  _warn_prf(average, modifier, msg_start, len(result))\n"
     ]
    }
   ],
   "source": [
    "# Evaluate the model\n",
    "model.eval()\n",
    "y_pred = []\n",
    "y_true = []\n",
    "\n",
    "with torch.no_grad():\n",
    "    for batch in tqdm(test_loader):\n",
    "        ids = batch['ids'].to(device, dtype = torch.long)\n",
    "        mask = batch['mask'].to(device, dtype = torch.long)\n",
    "        token_type_ids = batch['token_type_ids'].to(device, dtype = torch.long)\n",
    "        targets = batch['targets']\n",
    "\n",
    "        logits = model(ids, mask, token_type_ids)\n",
    "        y_pred.extend(logits.sigmoid().round().detach().cpu().numpy())\n",
    "        y_true.extend(targets.detach().cpu().numpy())\n",
    "        \n",
    "print(classification_report(y_true, y_pred, target_names=categories))\n"
   ]
  },
  {
   "cell_type": "markdown",
   "id": "9b5b9a62",
   "metadata": {},
   "source": [
    "# In-Depth Results Interpretation\n",
    "A thorough analysis of our model's predictions reveals its proficiency in identifying clear-cut sentiments but also uncovers areas where it could be improved. Instances of sarcasm, cultural references, or context-dependent expressions present challenges that our current model does not always handle well. To address these issues, future work could include training on a dataset enriched with such complex expressions or incorporating a component into the model architecture specifically designed to recognize these nuances, such as a sarcasm detection module or a secondary classifier trained on culturally specific data.\n",
    "\n",
    "**Macro-Avg Comparision between all models:**\n",
    "\n",
    "In increasing order of Macro-Avg:\n",
    "\n",
    "Classifier -> Neural Network -> Transformer\n",
    "\n",
    "Hence we can say that the transformer gave us the best results out of all the models implemented!"
   ]
  },
  {
   "cell_type": "markdown",
   "id": "af8a27c3",
   "metadata": {},
   "source": [
    "# Suggested Improvements\n",
    "In future iterations of this project, we aim to refine our sentiment classification model further. This could involve expanding the dataset to include a wider array of sentiments and expressions, potentially scraping additional online forums and social media platforms. Another area for improvement is the exploration of different tokenization strategies to see if they yield better model performance. Experimenting with hyperparameter optimization techniques, such as grid search or random search, could help fine-tune the model's settings to find the optimal balance between training time and accuracy. Additionally, exploring other language models that have emerged since BERT could provide further enhancements in sentiment classification accuracy."
   ]
  }
 ],
 "metadata": {
  "kernelspec": {
   "display_name": "Python 3.11.5 64-bit",
   "language": "python",
   "name": "python3"
  },
  "language_info": {
   "codemirror_mode": {
    "name": "ipython",
    "version": 3
   },
   "file_extension": ".py",
   "mimetype": "text/x-python",
   "name": "python",
   "nbconvert_exporter": "python",
   "pygments_lexer": "ipython3",
   "version": "3.11.4"
  },
  "vscode": {
   "interpreter": {
    "hash": "b0fa6594d8f4cbf19f97940f81e996739fb7646882a419484c72d19e05852a7e"
   }
  }
 },
 "nbformat": 4,
 "nbformat_minor": 5
}
