{
 "cells": [
  {
   "cell_type": "markdown",
   "id": "af30d454",
   "metadata": {},
   "source": [
    "# Introduction: Machine Learning Project Part 2: Advanced Techniques in Content Moderation\n",
    "\n",
    "In the second part of our machine learning journey, we delve deeper into content moderation on digital platforms, utilizing more advanced techniques. Our aim is to refine our model's ability to identify and categorize harmful content accurately, an essential task in maintaining respectful and safe online interactions. This phase represents a progression in our supervised classification challenge.\n",
    "\n",
    "We focus on the following key steps:\n",
    "\n",
    "1. **Enhanced Data Preprocessing**: Building upon our initial preprocessing, we further refine the Jigsaw Toxic Comment Classification Dataset for advanced modeling techniques.\n",
    "2. **Sophisticated Model Exploration**: Exploring a range of more complex models, including RNNs and pre-trained Transformers, to improve our classification accuracy.\n",
    "3. **In-depth Model Training and Evaluation**: Intensively training our models and evaluating their performance with a focus on metrics such as accuracy and F1-score, crucial for handling the subtleties of toxic content classification.\n",
    "4. **Result Analysis**: Deep diving into the outcomes of our models to gain better insights into their predictive capabilities and decision-making processes.\n",
    "\n",
    "This part of the project is geared towards leveraging sophisticated machine learning models to elevate our content moderation capabilities.\n"
   ]
  },
  {
   "cell_type": "code",
   "execution_count": 103,
   "id": "903608ac",
   "metadata": {},
   "outputs": [],
   "source": [
    "# Import pandas for data manipulation and analysis\n",
    "import pandas as pd\n",
    "\n",
    "# Import re for regular expressions\n",
    "import re\n",
    "\n",
    "# Import train_test_split from sklearn.model_selection\n",
    "\n",
    "from sklearn.model_selection import train_test_split\n",
    "\n",
    "# Import stopwords and word_tokenize from nltk.corpus and nltk.tokenize respectively\n",
    "# Stopwords are used to remove common but unimportant words from text data\n",
    "# word_tokenize is used for splitting strings into tokens (words)\n",
    "from nltk.corpus import stopwords\n",
    "from nltk.tokenize import word_tokenize\n",
    "\n",
    "# Import matplotlib.pyplot for data visualization\n",
    "\n",
    "import matplotlib.pyplot as plt\n",
    "\n",
    "# Import numpy for numerical operations\n",
    "import numpy as np\n"
   ]
  },
  {
   "cell_type": "markdown",
   "id": "d8609dc5",
   "metadata": {},
   "source": [
    "# Loading and Data Preprocessing\n",
    "\n",
    "Data preprocessing is a critical stage in our machine learning pipeline. In this phase, we load our training and test datasets and apply a series of preprocessing steps. These steps are designed to clean and standardize the text data, making it more suitable for analysis. We lower case the text, remove URLs, non-alphanumeric characters, and excess whitespaces. Additionally, we focus on removing stopwords, which are frequently occurring words that may not contribute significant meaning in the context of toxic comment classification. This thorough preprocessing helps in reducing noise and improving the model's focus on relevant textual features.\n",
    "\n"
   ]
  },
  {
   "cell_type": "code",
   "execution_count": 104,
   "id": "c558a923",
   "metadata": {},
   "outputs": [],
   "source": [
    "# Function to remove stopwords\n",
    "def remove_stopwords(text):\n",
    "    stop_words = set(stopwords.words('english'))\n",
    "    words = word_tokenize(text)\n",
    "    cleaned_text = ' '.join([word for word in words if word not in stop_words])\n",
    "    return cleaned_text.strip()  # Strip spaces after processing\n",
    "\n",
    "def preprocess_text(text: str):\n",
    "    text = text.lower()\n",
    "    text = re.sub(r'http\\S+|www\\S+|https\\S+', '', text).strip()  # Remove URLs\n",
    "    text = re.sub(r'[^a-zA-Z0-9\\s]', '', text).strip()  # Remove non-alphanumeric characters\n",
    "    text = re.sub(r'\\s+', ' ', text).strip()  # Remove extra white spaces\n",
    "    text = remove_stopwords(text)\n",
    "    text = text.strip()\n",
    "    return text\n",
    "\n",
    "def preprocess_data(series: pd.Series):\n",
    "    series = series.apply(preprocess_text)\n",
    "    return series\n"
   ]
  },
  {
   "cell_type": "code",
   "execution_count": 106,
   "metadata": {},
   "outputs": [
    {
     "data": {
      "text/html": [
       "<div>\n",
       "<style scoped>\n",
       "    .dataframe tbody tr th:only-of-type {\n",
       "        vertical-align: middle;\n",
       "    }\n",
       "\n",
       "    .dataframe tbody tr th {\n",
       "        vertical-align: top;\n",
       "    }\n",
       "\n",
       "    .dataframe thead th {\n",
       "        text-align: right;\n",
       "    }\n",
       "</style>\n",
       "<table border=\"1\" class=\"dataframe\">\n",
       "  <thead>\n",
       "    <tr style=\"text-align: right;\">\n",
       "      <th></th>\n",
       "      <th>id</th>\n",
       "      <th>comment_text</th>\n",
       "      <th>toxic</th>\n",
       "      <th>severe_toxic</th>\n",
       "      <th>obscene</th>\n",
       "      <th>threat</th>\n",
       "      <th>insult</th>\n",
       "      <th>identity_hate</th>\n",
       "    </tr>\n",
       "  </thead>\n",
       "  <tbody>\n",
       "    <tr>\n",
       "      <th>0</th>\n",
       "      <td>0000997932d777bf</td>\n",
       "      <td>explanation edits made username hardcore metal...</td>\n",
       "      <td>0</td>\n",
       "      <td>0</td>\n",
       "      <td>0</td>\n",
       "      <td>0</td>\n",
       "      <td>0</td>\n",
       "      <td>0</td>\n",
       "    </tr>\n",
       "    <tr>\n",
       "      <th>1</th>\n",
       "      <td>000103f0d9cfb60f</td>\n",
       "      <td>daww matches background colour im seemingly st...</td>\n",
       "      <td>0</td>\n",
       "      <td>0</td>\n",
       "      <td>0</td>\n",
       "      <td>0</td>\n",
       "      <td>0</td>\n",
       "      <td>0</td>\n",
       "    </tr>\n",
       "    <tr>\n",
       "      <th>2</th>\n",
       "      <td>000113f07ec002fd</td>\n",
       "      <td>hey man im really trying edit war guy constant...</td>\n",
       "      <td>0</td>\n",
       "      <td>0</td>\n",
       "      <td>0</td>\n",
       "      <td>0</td>\n",
       "      <td>0</td>\n",
       "      <td>0</td>\n",
       "    </tr>\n",
       "    <tr>\n",
       "      <th>3</th>\n",
       "      <td>0001b41b1c6bb37e</td>\n",
       "      <td>cant make real suggestions improvement wondere...</td>\n",
       "      <td>0</td>\n",
       "      <td>0</td>\n",
       "      <td>0</td>\n",
       "      <td>0</td>\n",
       "      <td>0</td>\n",
       "      <td>0</td>\n",
       "    </tr>\n",
       "    <tr>\n",
       "      <th>4</th>\n",
       "      <td>0001d958c54c6e35</td>\n",
       "      <td>sir hero chance remember page thats</td>\n",
       "      <td>0</td>\n",
       "      <td>0</td>\n",
       "      <td>0</td>\n",
       "      <td>0</td>\n",
       "      <td>0</td>\n",
       "      <td>0</td>\n",
       "    </tr>\n",
       "    <tr>\n",
       "      <th>...</th>\n",
       "      <td>...</td>\n",
       "      <td>...</td>\n",
       "      <td>...</td>\n",
       "      <td>...</td>\n",
       "      <td>...</td>\n",
       "      <td>...</td>\n",
       "      <td>...</td>\n",
       "      <td>...</td>\n",
       "    </tr>\n",
       "    <tr>\n",
       "      <th>159566</th>\n",
       "      <td>ffe987279560d7ff</td>\n",
       "      <td>second time asking view completely contradicts...</td>\n",
       "      <td>0</td>\n",
       "      <td>0</td>\n",
       "      <td>0</td>\n",
       "      <td>0</td>\n",
       "      <td>0</td>\n",
       "      <td>0</td>\n",
       "    </tr>\n",
       "    <tr>\n",
       "      <th>159567</th>\n",
       "      <td>ffea4adeee384e90</td>\n",
       "      <td>ashamed horrible thing put talk page 128611993</td>\n",
       "      <td>0</td>\n",
       "      <td>0</td>\n",
       "      <td>0</td>\n",
       "      <td>0</td>\n",
       "      <td>0</td>\n",
       "      <td>0</td>\n",
       "    </tr>\n",
       "    <tr>\n",
       "      <th>159568</th>\n",
       "      <td>ffee36eab5c267c9</td>\n",
       "      <td>spitzer umm theres actual article prostitution...</td>\n",
       "      <td>0</td>\n",
       "      <td>0</td>\n",
       "      <td>0</td>\n",
       "      <td>0</td>\n",
       "      <td>0</td>\n",
       "      <td>0</td>\n",
       "    </tr>\n",
       "    <tr>\n",
       "      <th>159569</th>\n",
       "      <td>fff125370e4aaaf3</td>\n",
       "      <td>looks like actually put speedy first version d...</td>\n",
       "      <td>0</td>\n",
       "      <td>0</td>\n",
       "      <td>0</td>\n",
       "      <td>0</td>\n",
       "      <td>0</td>\n",
       "      <td>0</td>\n",
       "    </tr>\n",
       "    <tr>\n",
       "      <th>159570</th>\n",
       "      <td>fff46fc426af1f9a</td>\n",
       "      <td>really dont think understand came idea bad rig...</td>\n",
       "      <td>0</td>\n",
       "      <td>0</td>\n",
       "      <td>0</td>\n",
       "      <td>0</td>\n",
       "      <td>0</td>\n",
       "      <td>0</td>\n",
       "    </tr>\n",
       "  </tbody>\n",
       "</table>\n",
       "<p>159537 rows × 8 columns</p>\n",
       "</div>"
      ],
      "text/plain": [
       "                      id                                       comment_text  \\\n",
       "0       0000997932d777bf  explanation edits made username hardcore metal...   \n",
       "1       000103f0d9cfb60f  daww matches background colour im seemingly st...   \n",
       "2       000113f07ec002fd  hey man im really trying edit war guy constant...   \n",
       "3       0001b41b1c6bb37e  cant make real suggestions improvement wondere...   \n",
       "4       0001d958c54c6e35                sir hero chance remember page thats   \n",
       "...                  ...                                                ...   \n",
       "159566  ffe987279560d7ff  second time asking view completely contradicts...   \n",
       "159567  ffea4adeee384e90     ashamed horrible thing put talk page 128611993   \n",
       "159568  ffee36eab5c267c9  spitzer umm theres actual article prostitution...   \n",
       "159569  fff125370e4aaaf3  looks like actually put speedy first version d...   \n",
       "159570  fff46fc426af1f9a  really dont think understand came idea bad rig...   \n",
       "\n",
       "        toxic  severe_toxic  obscene  threat  insult  identity_hate  \n",
       "0           0             0        0       0       0              0  \n",
       "1           0             0        0       0       0              0  \n",
       "2           0             0        0       0       0              0  \n",
       "3           0             0        0       0       0              0  \n",
       "4           0             0        0       0       0              0  \n",
       "...       ...           ...      ...     ...     ...            ...  \n",
       "159566      0             0        0       0       0              0  \n",
       "159567      0             0        0       0       0              0  \n",
       "159568      0             0        0       0       0              0  \n",
       "159569      0             0        0       0       0              0  \n",
       "159570      0             0        0       0       0              0  \n",
       "\n",
       "[159537 rows x 8 columns]"
      ]
     },
     "execution_count": 106,
     "metadata": {},
     "output_type": "execute_result"
    }
   ],
   "source": [
    "# Load and preprocess the training data\n",
    "train_file_path = 'data/train.csv'\n",
    "data = pd.read_csv(train_file_path)\n",
    "\n",
    "data['comment_text'] = preprocess_data(data['comment_text'])\n",
    "data = data[data[\"comment_text\"] != \"\"]\n",
    "data"
   ]
  },
  {
   "cell_type": "code",
   "execution_count": 107,
   "metadata": {},
   "outputs": [
    {
     "data": {
      "text/html": [
       "<div>\n",
       "<style scoped>\n",
       "    .dataframe tbody tr th:only-of-type {\n",
       "        vertical-align: middle;\n",
       "    }\n",
       "\n",
       "    .dataframe tbody tr th {\n",
       "        vertical-align: top;\n",
       "    }\n",
       "\n",
       "    .dataframe thead th {\n",
       "        text-align: right;\n",
       "    }\n",
       "</style>\n",
       "<table border=\"1\" class=\"dataframe\">\n",
       "  <thead>\n",
       "    <tr style=\"text-align: right;\">\n",
       "      <th></th>\n",
       "      <th>id</th>\n",
       "      <th>comment_text</th>\n",
       "      <th>toxic</th>\n",
       "      <th>severe_toxic</th>\n",
       "      <th>obscene</th>\n",
       "      <th>threat</th>\n",
       "      <th>insult</th>\n",
       "      <th>identity_hate</th>\n",
       "    </tr>\n",
       "  </thead>\n",
       "  <tbody>\n",
       "    <tr>\n",
       "      <th>5</th>\n",
       "      <td>0001ea8717f6de06</td>\n",
       "      <td>thank understanding think highly would revert ...</td>\n",
       "      <td>0</td>\n",
       "      <td>0</td>\n",
       "      <td>0</td>\n",
       "      <td>0</td>\n",
       "      <td>0</td>\n",
       "      <td>0</td>\n",
       "    </tr>\n",
       "    <tr>\n",
       "      <th>7</th>\n",
       "      <td>000247e83dcc1211</td>\n",
       "      <td>dear god site horrible</td>\n",
       "      <td>0</td>\n",
       "      <td>0</td>\n",
       "      <td>0</td>\n",
       "      <td>0</td>\n",
       "      <td>0</td>\n",
       "      <td>0</td>\n",
       "    </tr>\n",
       "    <tr>\n",
       "      <th>11</th>\n",
       "      <td>0002f87b16116a7f</td>\n",
       "      <td>somebody invariably try add religion really me...</td>\n",
       "      <td>0</td>\n",
       "      <td>0</td>\n",
       "      <td>0</td>\n",
       "      <td>0</td>\n",
       "      <td>0</td>\n",
       "      <td>0</td>\n",
       "    </tr>\n",
       "    <tr>\n",
       "      <th>13</th>\n",
       "      <td>0003e1cccfd5a40a</td>\n",
       "      <td>says right type type institution needed case t...</td>\n",
       "      <td>0</td>\n",
       "      <td>0</td>\n",
       "      <td>0</td>\n",
       "      <td>0</td>\n",
       "      <td>0</td>\n",
       "      <td>0</td>\n",
       "    </tr>\n",
       "    <tr>\n",
       "      <th>14</th>\n",
       "      <td>00059ace3e3e9a53</td>\n",
       "      <td>adding new product list make sure relevant add...</td>\n",
       "      <td>0</td>\n",
       "      <td>0</td>\n",
       "      <td>0</td>\n",
       "      <td>0</td>\n",
       "      <td>0</td>\n",
       "      <td>0</td>\n",
       "    </tr>\n",
       "    <tr>\n",
       "      <th>...</th>\n",
       "      <td>...</td>\n",
       "      <td>...</td>\n",
       "      <td>...</td>\n",
       "      <td>...</td>\n",
       "      <td>...</td>\n",
       "      <td>...</td>\n",
       "      <td>...</td>\n",
       "      <td>...</td>\n",
       "    </tr>\n",
       "    <tr>\n",
       "      <th>153150</th>\n",
       "      <td>fff8f64043129fa2</td>\n",
       "      <td>jerome see never got around im surprised looke...</td>\n",
       "      <td>0</td>\n",
       "      <td>0</td>\n",
       "      <td>0</td>\n",
       "      <td>0</td>\n",
       "      <td>0</td>\n",
       "      <td>0</td>\n",
       "    </tr>\n",
       "    <tr>\n",
       "      <th>153151</th>\n",
       "      <td>fff9d70fe0722906</td>\n",
       "      <td>lucky bastard heh famous kida envy congrats</td>\n",
       "      <td>0</td>\n",
       "      <td>0</td>\n",
       "      <td>0</td>\n",
       "      <td>0</td>\n",
       "      <td>0</td>\n",
       "      <td>0</td>\n",
       "    </tr>\n",
       "    <tr>\n",
       "      <th>153154</th>\n",
       "      <td>fffa8a11c4378854</td>\n",
       "      <td>shame want speak gays romanians</td>\n",
       "      <td>0</td>\n",
       "      <td>0</td>\n",
       "      <td>0</td>\n",
       "      <td>0</td>\n",
       "      <td>0</td>\n",
       "      <td>0</td>\n",
       "    </tr>\n",
       "    <tr>\n",
       "      <th>153155</th>\n",
       "      <td>fffac2a094c8e0e2</td>\n",
       "      <td>mel gibson nazi bitch makes shitty movies much...</td>\n",
       "      <td>1</td>\n",
       "      <td>0</td>\n",
       "      <td>1</td>\n",
       "      <td>0</td>\n",
       "      <td>1</td>\n",
       "      <td>0</td>\n",
       "    </tr>\n",
       "    <tr>\n",
       "      <th>153156</th>\n",
       "      <td>fffb5451268fb5ba</td>\n",
       "      <td>unicorn lair discovery supposedly unicorn lair...</td>\n",
       "      <td>0</td>\n",
       "      <td>0</td>\n",
       "      <td>0</td>\n",
       "      <td>0</td>\n",
       "      <td>0</td>\n",
       "      <td>0</td>\n",
       "    </tr>\n",
       "  </tbody>\n",
       "</table>\n",
       "<p>63574 rows × 8 columns</p>\n",
       "</div>"
      ],
      "text/plain": [
       "                      id                                       comment_text  \\\n",
       "5       0001ea8717f6de06  thank understanding think highly would revert ...   \n",
       "7       000247e83dcc1211                             dear god site horrible   \n",
       "11      0002f87b16116a7f  somebody invariably try add religion really me...   \n",
       "13      0003e1cccfd5a40a  says right type type institution needed case t...   \n",
       "14      00059ace3e3e9a53  adding new product list make sure relevant add...   \n",
       "...                  ...                                                ...   \n",
       "153150  fff8f64043129fa2  jerome see never got around im surprised looke...   \n",
       "153151  fff9d70fe0722906        lucky bastard heh famous kida envy congrats   \n",
       "153154  fffa8a11c4378854                    shame want speak gays romanians   \n",
       "153155  fffac2a094c8e0e2  mel gibson nazi bitch makes shitty movies much...   \n",
       "153156  fffb5451268fb5ba  unicorn lair discovery supposedly unicorn lair...   \n",
       "\n",
       "        toxic  severe_toxic  obscene  threat  insult  identity_hate  \n",
       "5           0             0        0       0       0              0  \n",
       "7           0             0        0       0       0              0  \n",
       "11          0             0        0       0       0              0  \n",
       "13          0             0        0       0       0              0  \n",
       "14          0             0        0       0       0              0  \n",
       "...       ...           ...      ...     ...     ...            ...  \n",
       "153150      0             0        0       0       0              0  \n",
       "153151      0             0        0       0       0              0  \n",
       "153154      0             0        0       0       0              0  \n",
       "153155      1             0        1       0       1              0  \n",
       "153156      0             0        0       0       0              0  \n",
       "\n",
       "[63574 rows x 8 columns]"
      ]
     },
     "execution_count": 107,
     "metadata": {},
     "output_type": "execute_result"
    }
   ],
   "source": [
    "# Load and preprocess the test data\n",
    "test_file_path = 'data/test.csv'\n",
    "test_label_path = 'data/test_labels.csv'\n",
    "test_data = pd.read_csv(test_file_path)\n",
    "test_labels = pd.read_csv(test_label_path)\n",
    "\n",
    "# Merge/join the dataframes based on the 'id' column\n",
    "merged_data = pd.merge(test_data, test_labels, on='id')\n",
    "\n",
    "merged_data['comment_text'] = preprocess_data(merged_data['comment_text'])\n",
    "merged_data = merged_data[merged_data[\"comment_text\"] != \"\"]\n",
    "\n",
    "# there are alot of comments that are not givien any labels so just filtering those out\n",
    "filtered_test_data = merged_data[merged_data.iloc[:, 2:].sum(axis=1)>=0] \n",
    "\n",
    "x_test = filtered_test_data['comment_text']\n",
    "y_test = filtered_test_data[['toxic', 'severe_toxic', 'obscene', 'threat', 'insult', 'identity_hate']].to_numpy()\n",
    "\n",
    "filtered_test_data"
   ]
  },
  {
   "cell_type": "code",
   "execution_count": 108,
   "metadata": {},
   "outputs": [],
   "source": [
    "y_test = np.insert(y_test, 0, 0, axis=1)\n",
    "\n",
    "# filling up extra class\n",
    "y_test[y_test.sum(axis=1) == 0, 0] = 1"
   ]
  },
  {
   "cell_type": "markdown",
   "metadata": {},
   "source": [
    "# Dataset Visualization and Imbalance Analysis\n",
    "Understanding the distribution of our data is crucial for building effective machine learning models. This section is dedicated to visualizing the distribution of comments across various toxicity categories. We generate bar plots to visually assess the number of occurrences in each category, highlighting any significant imbalances. Imbalanced datasets can lead to biased models, so this analysis is pivotal in guiding how we approach model training, particularly in choosing strategies to handle class imbalances effectively.\n"
   ]
  },
  {
   "cell_type": "code",
   "execution_count": 109,
   "metadata": {},
   "outputs": [
    {
     "data": {
      "text/plain": [
       "Text(0.5, 0, 'category')"
      ]
     },
     "execution_count": 109,
     "metadata": {},
     "output_type": "execute_result"
    },
    {
     "data": {
      "image/png": "[encoded data removed]",
      "text/plain": [
       "<Figure size 800x500 with 1 Axes>"
      ]
     },
     "metadata": {},
     "output_type": "display_data"
    }
   ],
   "source": [
    "# reference from https://towardsdatascience.com/multi-label-text-classification-with-scikit-learn-30714b7819c5\n",
    "# to visualize the number of comments per category\n",
    "df_stats = data[['toxic', 'severe_toxic', 'obscene', 'threat', 'insult', 'identity_hate']].sum()\n",
    "df_stats.plot(x='category', y='number_of_comments', kind='bar', legend=False, grid=True, figsize=(8, 5))\n",
    "plt.title(\"Number of comments per category\")\n",
    "plt.ylabel('# of Occurrences', fontsize=12)\n",
    "plt.xlabel('category', fontsize=12)\n",
    "# this show that it is very imablannced dataset"
   ]
  },
  {
   "cell_type": "code",
   "execution_count": 110,
   "metadata": {},
   "outputs": [
    {
     "data": {
      "text/plain": [
       "0    143312\n",
       "1      6360\n",
       "3      4209\n",
       "2      3480\n",
       "4      1760\n",
       "5       385\n",
       "6        31\n",
       "Name: count, dtype: int64"
      ]
     },
     "execution_count": 110,
     "metadata": {},
     "output_type": "execute_result"
    }
   ],
   "source": [
    "# After analyzing the above setup, it hit us that they don't add up to the total number of comments\n",
    "# It means some comments are untagged/unlabeled\n",
    "labels_per_comment = data[['toxic', 'severe_toxic', 'obscene', 'threat', 'insult', 'identity_hate']].sum(axis=1)\n",
    "labels_per_comment.value_counts()\n",
    "# This shows that most of the comments have 0 labels\n",
    "# This can be explained by the fact that most of the comments are not toxic in any nature\n",
    "# Can be considered as negative class"
   ]
  },
  {
   "cell_type": "markdown",
   "metadata": {},
   "source": [
    "# Training Data Preparation\n",
    "As we embark on training our advanced models, the preparation of our training data becomes paramount. In this stage, we split our preprocessed dataset into training and validation sets, following an 85-15% ratio. This segregation is crucial for unbiased model training and provides a reliable basis for validation. The split ensures we have a robust dataset for training while reserving a significant portion for evaluating the model's performance on unseen data."
   ]
  },
  {
   "cell_type": "code",
   "execution_count": 111,
   "id": "58fc3a40",
   "metadata": {},
   "outputs": [
    {
     "data": {
      "text/plain": [
       "((135606, 8), (23931, 8))"
      ]
     },
     "execution_count": 111,
     "metadata": {},
     "output_type": "execute_result"
    }
   ],
   "source": [
    "# Splitting the training data into training and validation sets (85% - 15%)\n",
    "train_data, val_data = train_test_split(data, test_size=0.15, random_state=42)\n",
    "train_data.shape, val_data.shape"
   ]
  },
  {
   "cell_type": "code",
   "execution_count": 112,
   "id": "0831ff42",
   "metadata": {},
   "outputs": [],
   "source": [
    "categories = ['toxic', 'severe_toxic', 'obscene', 'threat', 'insult', 'identity_hate']\n",
    "\n",
    "x_train = train_data['comment_text'].to_numpy()\n",
    "x_val = val_data['comment_text'].to_numpy()\n",
    "\n",
    "y_train = train_data[categories].to_numpy()\n",
    "y_val = val_data[categories].to_numpy()"
   ]
  },
  {
   "cell_type": "code",
   "execution_count": 113,
   "metadata": {},
   "outputs": [
    {
     "data": {
      "text/plain": [
       "((135606, 7), (23931, 7))"
      ]
     },
     "execution_count": 113,
     "metadata": {},
     "output_type": "execute_result"
    }
   ],
   "source": [
    "categories = ['none', 'toxic', 'severe_toxic', 'obscene', 'threat', 'insult', 'identity_hate']\n",
    "# add zero class in all ys\n",
    "y_train = np.insert(y_train, 0, 0, axis=1)\n",
    "y_val = np.insert(y_val, 0, 0, axis=1)\n",
    "\n",
    "# filling up extra class\n",
    "y_train[y_train.sum(axis=1) == 0, 0] = 1\n",
    "y_val[y_val.sum(axis=1) == 0, 0] = 1\n",
    "\n",
    "y_train.shape, y_val.shape"
   ]
  },
  {
   "cell_type": "markdown",
   "id": "8d1ad272",
   "metadata": {},
   "source": [
    "# Addressing Class Imbalance through Sampling Techniques\n",
    "Class imbalance is a common challenge in datasets involving categories with disproportionate representation. In our case, the imbalance could significantly affect the performance and fairness of the model. To address this, we implement a sampling technique using the LeastSampledClassSampler. This approach helps in creating a more evenly distributed dataset for training purposes. We demonstrate the effectiveness of this technique by comparing the original and oversampled distributions through visualizations. Ensuring a balanced training dataset is crucial for developing a model that is not biased toward the majority class and can recognize all categories effectively.\n"
   ]
  },
  {
   "cell_type": "code",
   "execution_count": 114,
   "metadata": {},
   "outputs": [
    {
     "data": {
      "image/png": "[encoded data removed]",
      "text/plain": [
       "<Figure size 1500x500 with 2 Axes>"
      ]
     },
     "metadata": {},
     "output_type": "display_data"
    }
   ],
   "source": [
    "\"\"\"\n",
    "As our data is really imbalanced we are going to try out a sampling mehtod here\n",
    "https://github.com/issamemari/pytorch-multilabel-balanced-sampler\n",
    "We are going to use LeastSampleClassSampler which will choose the least used class\n",
    "as the next sample\n",
    "We can verify it by sampling 10000 examples from our data\n",
    "\"\"\"\n",
    "import torch\n",
    "from pytorch_multilabel_balanced_sampler.samplers import RandomClassSampler, ClassCycleSampler, LeastSampledClassSampler\n",
    "\n",
    "\n",
    "fig, axes = plt.subplots(nrows=1,ncols=2, figsize=(15, 5))\n",
    "\n",
    "# Original distribution\n",
    "pd.DataFrame(y_train, columns=categories).sum().plot(ax=axes[0], x='category', y='number_of_comments', kind='bar', grid=True, title=\"Original distribution\")\n",
    "\n",
    "\n",
    "sampler = LeastSampledClassSampler(labels=torch.from_numpy(y_train), indices=range(len(y_train)))\n",
    "\n",
    "inds = []\n",
    "for sample in sampler:\n",
    "    inds.append(sample)\n",
    "    if len(inds) == 10000:\n",
    "        break\n",
    "\n",
    "# Oversampled distribution\n",
    "pd.DataFrame(y_train[inds], columns=categories).sum().plot(ax=axes[1], x='category', y='number_of_comments', kind='bar', grid=True, title=\"Oversampled distribution\")\n",
    "\n",
    "plt.show()\n",
    "\n",
    "# now you can see after overssampling the distribution is fairly even\n",
    "# We will be using it for our training now"
   ]
  },
  {
   "cell_type": "markdown",
   "id": "3a234d43",
   "metadata": {},
   "source": [
    "- The none class you can see here in the above graph is the class that has no label(no label is 1, all labels were zero for a particular comment), so we put that in the none class to balance things out, as seen in the second graph side by side."
   ]
  },
  {
   "cell_type": "code",
   "execution_count": 124,
   "metadata": {},
   "outputs": [],
   "source": [
    "from torch.utils.data import DataLoader, Dataset\n",
    "from gpt4all import Embed4All\n",
    "\n",
    "class CustomDataset(Dataset):\n",
    "    def __init__(self, texts, y):\n",
    "        self.feature_extractor = feature_extractor\n",
    "        self.texts = texts\n",
    "        self.x = [None] * len(texts)\n",
    "        self.y = y\n",
    "\n",
    "    def __len__(self):\n",
    "        return len(self.x)\n",
    "\n",
    "    def __getitem__(self, idx):\n",
    "        if self.x[idx] is None:\n",
    "            #self.x[idx] = torch.tensor(self.feature_extractor(preprocess_text(self.texts[idx])))\n",
    "            self.x[idx] = torch.tensor(self.feature_extractor(self.texts[idx]))\n",
    "\n",
    "        return self.x[idx], self.y[idx]\n",
    "\n",
    "\n",
    "#sampler = LeastSampledClassSampler(labels=torch.from_numpy(y_train), indices=range(len(y_train)))\n",
    "\n",
    "\n",
    "# Create datasets\n",
    "train_dataset = CustomDataset(x_train, torch.tensor(y_train, dtype=torch.float))\n",
    "val_dataset = CustomDataset(x_val, torch.tensor(y_val, dtype=torch.float))\n",
    "\n",
    "# Create dataloaders\n",
    "train_loader = DataLoader(train_dataset, batch_size=2048, sampler=sampler)\n",
    "val_loader = DataLoader(val_dataset, batch_size=2048, shuffle=False)"
   ]
  },
  {
   "cell_type": "markdown",
   "metadata": {},
   "source": [
    "# Deep Dive into Model Architecture and Training\n",
    "This section delves into the architecture and training of our custom multi-label classification model. We construct a neural network tailored for this specific task, considering the nuances of multi-label text classification. The model consists of linear layers with ReLU activations, designed to handle the high-dimensional feature space typical of text data. Training the model involves not only feeding the data through the network but also optimizing the weights using backpropagation and an Adam optimizer. We train the model over several epochs, monitoring the loss to ensure that the model learns effectively from the training data. This process is crucial for developing a model capable of accurately classifying toxic comments.\n"
   ]
  },
  {
   "cell_type": "code",
   "execution_count": 126,
   "metadata": {},
   "outputs": [
    {
     "name": "stderr",
     "output_type": "stream",
     "text": [
      "  0%|          | 0/67 [00:00<?, ?it/s]"
     ]
    },
    {
     "name": "stderr",
     "output_type": "stream",
     "text": [
      "Epoch 1/10, Loss: 0.2162: 100%|██████████| 67/67 [09:29<00:00,  8.50s/it]\n",
      "Epoch 2/10, Loss: 0.1731: 100%|██████████| 67/67 [05:56<00:00,  5.31s/it]\n",
      "Epoch 3/10, Loss: 0.1276: 100%|██████████| 67/67 [04:13<00:00,  3.79s/it]\n",
      "Epoch 4/10, Loss: 0.0855: 100%|██████████| 67/67 [03:06<00:00,  2.78s/it]\n",
      "Epoch 5/10, Loss: 0.0494: 100%|██████████| 67/67 [02:19<00:00,  2.08s/it]\n",
      "Epoch 6/10, Loss: 0.0369: 100%|██████████| 67/67 [01:38<00:00,  1.47s/it]\n",
      "Epoch 7/10, Loss: 0.0304: 100%|██████████| 67/67 [01:16<00:00,  1.14s/it]\n",
      "Epoch 8/10, Loss: 0.0186: 100%|██████████| 67/67 [00:59<00:00,  1.13it/s]\n",
      "Epoch 9/10, Loss: 0.0084: 100%|██████████| 67/67 [00:47<00:00,  1.42it/s]\n",
      "Epoch 10/10, Loss: 0.0076: 100%|██████████| 67/67 [00:36<00:00,  1.83it/s]\n"
     ]
    }
   ],
   "source": [
    "import torch\n",
    "from sklearn.metrics import accuracy_score, precision_score, recall_score, f1_score\n",
    "from torch.nn import BCEWithLogitsLoss\n",
    "from tqdm import tqdm\n",
    "\n",
    "# Custom model for multi-label sequence classification\n",
    "class Classifier(torch.nn.Module):\n",
    "    def __init__(self, num_labels):\n",
    "        super(Classifier, self).__init__()\n",
    "        self.num_labels = num_labels\n",
    "        \n",
    "        self.classifier = torch.nn.Sequential(\n",
    "            torch.nn.Linear(384, 768), \n",
    "            torch.nn.ReLU(), \n",
    "            torch.nn.Linear(768, 384),\n",
    "            torch.nn.ReLU(),\n",
    "            torch.nn.Linear(384, num_labels)\n",
    "        )\n",
    "\n",
    "    def forward(self, input, labels=None):\n",
    "        logits = self.classifier(input)\n",
    "\n",
    "        if labels is not None:\n",
    "            loss_fn = BCEWithLogitsLoss()\n",
    "            #loss_fn = focal_binary_cross_entropy\n",
    "            loss = loss_fn(logits, labels)\n",
    "            return loss, logits\n",
    "        else:\n",
    "            return logits\n",
    "\n",
    "# Initialize custom model\n",
    "model = Classifier(num_labels=len(categories))\n",
    "\n",
    "# Define optimizer\n",
    "optimizer = torch.optim.AdamW(model.parameters(), lr=0.001)\n",
    "\n",
    "\n",
    "device = \"cuda\"\n",
    "# Train the model\n",
    "epochs = 10\n",
    "model = model.to(device)\n",
    "for epoch in range(epochs):\n",
    "    model.train()\n",
    "    pbar = tqdm(train_loader)\n",
    "    for batch in pbar:\n",
    "        input, labels = batch\n",
    "        input = input.to(device)\n",
    "        labels = labels.to(device)\n",
    "\n",
    "        optimizer.zero_grad()\n",
    "        loss, logits = model(input, labels=labels)\n",
    "        loss.backward()\n",
    "        optimizer.step()\n",
    "\n",
    "        pbar.set_description(f\"Epoch {epoch+1}/{epochs}, Loss: {loss.item():.4f}\")\n"
   ]
  },
  {
   "cell_type": "markdown",
   "id": "1b0ac116",
   "metadata": {},
   "source": [
    "# Detailed Model Evaluation and Metric Analysis\n",
    "The final step in our machine learning pipeline is the evaluation of the model's performance on the test dataset. This critical phase involves using the test data to assess how well our model generalizes to new, unseen data. We employ a range of evaluation metrics, including accuracy, precision, recall, and F1-score, to provide a comprehensive view of the model's performance across different aspects. Accuracy helps us understand the overall correctness of the model, while precision and recall provide insights into its performance in identifying positive cases. The F1-score, a harmonic mean of precision and recall, is particularly useful in the context of imbalanced datasets. We present the evaluation results in a detailed classification report and use confusion matrices to visualize the model's performance across different categories. This thorough evaluation is vital to ensure that our model is effective, fair, and ready to perform well \n"
   ]
  },
  {
   "cell_type": "code",
   "execution_count": 127,
   "metadata": {},
   "outputs": [
    {
     "name": "stderr",
     "output_type": "stream",
     "text": [
      "  0%|          | 0/63 [00:00<?, ?it/s]"
     ]
    },
    {
     "name": "stderr",
     "output_type": "stream",
     "text": [
      "100%|██████████| 63/63 [15:22<00:00, 14.65s/it]"
     ]
    },
    {
     "name": "stdout",
     "output_type": "stream",
     "text": [
      "               precision    recall  f1-score   support\n",
      "\n",
      "         none       0.95      0.96      0.96     57331\n",
      "        toxic       0.64      0.53      0.58      6090\n",
      " severe_toxic       0.11      0.71      0.19       367\n",
      "      obscene       0.67      0.58      0.62      3691\n",
      "       threat       0.19      0.55      0.28       211\n",
      "       insult       0.57      0.53      0.55      3427\n",
      "identity_hate       0.26      0.77      0.39       712\n",
      "\n",
      "    micro avg       0.85      0.88      0.86     71829\n",
      "    macro avg       0.49      0.66      0.51     71829\n",
      " weighted avg       0.88      0.88      0.88     71829\n",
      "  samples avg       0.90      0.91      0.90     71829\n",
      "\n"
     ]
    },
    {
     "name": "stderr",
     "output_type": "stream",
     "text": [
      "\n",
      "/home/junaid/anaconda3/envs/pytorch/lib/python3.11/site-packages/sklearn/metrics/_classification.py:1471: UndefinedMetricWarning: Precision and F-score are ill-defined and being set to 0.0 in samples with no predicted labels. Use `zero_division` parameter to control this behavior.\n",
      "  _warn_prf(average, modifier, msg_start, len(result))\n"
     ]
    }
   ],
   "source": [
    "from sklearn.metrics import accuracy_score, f1_score, precision_score, recall_score, classification_report, multilabel_confusion_matrix\n",
    "# Evaluate the model\n",
    "model.eval()\n",
    "\n",
    "# Create datasets\n",
    "test_dataset = CustomDataset(x_test.to_numpy(), torch.tensor(y_test, dtype=torch.float))\n",
    "\n",
    "# Create dataloaders\n",
    "test_loader = DataLoader(test_dataset, batch_size=1024, shuffle=False)\n",
    "\n",
    "y_pred = []\n",
    "y_true = []\n",
    "with torch.no_grad():\n",
    "    for batch in tqdm(test_loader):\n",
    "        input, labels = batch\n",
    "        input = input.to(device)\n",
    "        labels = labels.to(device)\n",
    "        logits = model(input)\n",
    "        y_pred.extend(logits.sigmoid().round().tolist())\n",
    "        y_true.extend(labels.tolist())\n",
    "\n",
    "print(classification_report(y_true, y_pred, target_names=categories))\n"
   ]
  }
 ],
 "metadata": {
  "kernelspec": {
   "display_name": "Python 3.11.5 64-bit",
   "language": "python",
   "name": "python3"
  },
  "language_info": {
   "codemirror_mode": {
    "name": "ipython",
    "version": 3
   },
   "file_extension": ".py",
   "mimetype": "text/x-python",
   "name": "python",
   "nbconvert_exporter": "python",
   "pygments_lexer": "ipython3",
   "version": "3.11.5"
  },
  "vscode": {
   "interpreter": {
    "hash": "b0fa6594d8f4cbf19f97940f81e996739fb7646882a419484c72d19e05852a7e"
   }
  }
 },
 "nbformat": 4,
 "nbformat_minor": 5
}
